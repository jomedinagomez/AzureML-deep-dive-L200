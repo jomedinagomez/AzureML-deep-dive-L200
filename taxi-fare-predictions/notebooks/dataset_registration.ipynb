{
 "cells": [
  {
   "cell_type": "markdown",
   "metadata": {},
   "source": [
    "### Related Documentation\n",
    "- [How to Create Data Assets](https://github.com/MicrosoftDocs/azure-docs/blob/main/articles/machine-learning/how-to-create-data-assets.md)\n",
    "- [How to read and Write data CLIv2](https://learn.microsoft.com/en-us/azure/machine-learning/how-to-read-write-data-v2?tabs=python)\n",
    "- [AutoML Examples](https://github.com/Azure/azureml-examples/tree/main/sdk/python/jobs/automl-standalone-jobs)\n"
   ]
  },
  {
   "cell_type": "code",
   "execution_count": 18,
   "metadata": {},
   "outputs": [
    {
     "name": "stdout",
     "output_type": "stream",
     "text": [
      "We could not find config.json in: . or in its parent directories. \n"
     ]
    }
   ],
   "source": [
    "from azure.identity import DefaultAzureCredential\n",
    "from azure.ai.ml import MLClient\n",
    "\n",
    "credential = DefaultAzureCredential()\n",
    "ml_client = None\n",
    "try:\n",
    "    ml_client = MLClient.from_config(credential)\n",
    "except Exception as ex:\n",
    "    print(ex)\n",
    "    # Enter details of your AzureML workspace\n",
    "    subscription_id = \"\"\n",
    "    resource_group = \"\"\n",
    "    workspace = \"\"\n",
    "    ml_client = MLClient(credential, subscription_id, resource_group, workspace)"
   ]
  },
  {
   "cell_type": "code",
   "execution_count": 21,
   "metadata": {
    "gather": {
     "logged": 1675906247404
    }
   },
   "outputs": [
    {
     "data": {
      "text/plain": [
       "Data({'type': 'mltable', 'is_anonymous': False, 'auto_increment_version': False, 'name': 'transformed_data', 'description': 'transformed_data for forecasting', 'tags': {}, 'properties': {}, 'id': '', 'base_path': './', 'creation_context': <azure.ai.ml._restclient.v2022_05_01.models._models_py3.SystemData object at 0x7f8cf56b8cd0>, 'serialize': <msrest.serialization.Serializer object at 0x7f8cf59aef20>, 'version': '2', 'latest_version': None, 'path': 'azureml://subscriptions/14585b9f-5c83-4a76-8055-42149123f99f/resourcegroups/azureml_rg/workspaces/azureml_dev_jamg/datastores/workspaceblobstore/paths/azureml/d7cff6ca-86db-4c70-895d-9d56b1b3eb7f/transformed_data/transformed_data.csv/', 'referenced_uris': None})"
      ]
     },
     "execution_count": 21,
     "metadata": {},
     "output_type": "execute_result"
    }
   ],
   "source": [
    "from azure.ai.ml.entities import Data\n",
    "from azure.ai.ml.constants import AssetTypes\n",
    "\n",
    "# my_path must point to folder containing MLTable artifact (MLTable file + data\n",
    "# Supported paths include:\n",
    "# local: './<path>'\n",
    "# blob:  'https://<account_name>.blob.core.windows.net/<container_name>/<path>'\n",
    "# ADLS gen2: 'abfss://<file_system>@<account_name>.dfs.core.windows.net/<path>/'\n",
    "# Datastore: 'azureml://datastores/workspaceblobstore/paths/<path>'\n",
    "\n",
    "transformed_data_location = ''\n",
    "#transformed_data_location_file = 'transformed_data.csv'\n",
    "\n",
    "my_path = transformed_data_location\n",
    "\n",
    "my_data = Data(\n",
    "    path=my_path,\n",
    "    type=AssetTypes.MLTABLE,\n",
    "    description=\"transformed_data for forecasting\",\n",
    "    name=\"transformed_data\",\n",
    ")\n",
    "\n",
    "ml_client.data.create_or_update(my_data)"
   ]
  },
  {
   "cell_type": "code",
   "execution_count": null,
   "metadata": {},
   "outputs": [],
   "source": []
  }
 ],
 "metadata": {
  "kernel_info": {
   "name": "python310-sdkv2"
  },
  "kernelspec": {
   "display_name": "Python 3.10 - SDK V2",
   "language": "python",
   "name": "python310-sdkv2"
  },
  "language_info": {
   "codemirror_mode": {
    "name": "ipython",
    "version": 3
   },
   "file_extension": ".py",
   "mimetype": "text/x-python",
   "name": "python",
   "nbconvert_exporter": "python",
   "pygments_lexer": "ipython3",
   "version": "3.10.4"
  },
  "nteract": {
   "version": "nteract-front-end@1.0.0"
  },
  "vscode": {
   "interpreter": {
    "hash": "fddeecfc22e5a95485081fc058dd94d806200493a8aedf1070f5da2457837ae1"
   }
  }
 },
 "nbformat": 4,
 "nbformat_minor": 4
}
