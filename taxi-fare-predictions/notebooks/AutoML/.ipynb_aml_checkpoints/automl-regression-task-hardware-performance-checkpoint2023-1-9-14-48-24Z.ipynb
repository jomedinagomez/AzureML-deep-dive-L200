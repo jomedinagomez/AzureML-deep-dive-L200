{
  "cells": [
    {
      "cell_type": "markdown",
      "source": [
        "### Related links:\n",
        "- [AutoML Examples SDKv2](https://github.com/Azure/azureml-examples/tree/main/sdk/python/jobs/automl-standalone-jobs)\n",
        "- [AutomL Examples  SDKv1](https://github.com/Azure/azureml-examples/tree/main/v1/python-sdk/tutorials/automl-with-azureml)\n",
        "- [How to Configure AutoML Train v2](https://learn.microsoft.com/en-us/azure/machine-learning/how-to-configure-auto-train)"
      ],
      "metadata": {
        "nteract": {
          "transient": {
            "deleting": false
          }
        }
      }
    },
    {
      "cell_type": "markdown",
      "source": [
        "\n",
        "# AutoML: Train \"the best\" Regression model for the Hardware dataset.\n",
        "\n",
        "**Requirements** - In order to benefit from this tutorial, you will need:\n",
        "- A basic understanding of Machine Learning\n",
        "- An Azure account with an active subscription. [Create an account for free](https://azure.microsoft.com/free/?WT.mc_id=A261C142F)\n",
        "- An Azure ML workspace. [Check this notebook for creating a workspace](../../../resources/workspace/workspace.ipynb) \n",
        "- A Compute Cluster. [Check this notebook to create a compute cluster](../../../resources/compute/compute.ipynb)\n",
        "- A python environment\n",
        "- Installed Azure Machine Learning Python SDK v2 - [install instructions](../../../README.md) - check the getting started section\n",
        "\n",
        "**Learning Objectives** - By the end of this tutorial, you should be able to:\n",
        "- Connect to your AML workspace from the Python SDK\n",
        "- Create an `AutoML regression Job` with the 'regression()' factory-function.\n",
        "- Train the model using AmlCompute by submitting/running the AutoML regression training job\n",
        "- Obtaing the model and score predictions with it\n",
        "\n",
        "**Motivations** - This notebook explains how to setup and run an AutoML regression job. This is one of the nine ML-tasks supported by AutoML. Other ML-tasks are 'forecasting', 'classification', 'image classification', 'image object detection', 'nlp text classification', etc.\n",
        "\n",
        "In this notebook, we go over how you can use AutoML for training a Regression model. We will use the Hardware Performance dataset to train and deploy the model to use in inference scenarios. The Regression goal is to predict the performance of certain combinations of hardware parts."
      ],
      "metadata": {}
    },
    {
      "cell_type": "markdown",
      "source": [
        "# 1. Connect to Azure Machine Learning Workspace\n",
        "\n",
        "The [workspace](https://docs.microsoft.com/en-us/azure/machine-learning/concept-workspace) is the top-level resource for Azure Machine Learning, providing a centralized place to work with all the artifacts you create when you use Azure Machine Learning. In this section we will connect to the workspace in which the job will be run.\n",
        "\n",
        "## 1.1. Import the required libraries"
      ],
      "metadata": {}
    },
    {
      "cell_type": "code",
      "source": [
        "# Import required libraries\n",
        "from azure.identity import DefaultAzureCredential\n",
        "from azure.ai.ml import MLClient\n",
        "\n",
        "from azure.ai.ml.constants import AssetTypes\n",
        "from azure.ai.ml import automl\n",
        "from azure.ai.ml import Input"
      ],
      "outputs": [],
      "execution_count": 1,
      "metadata": {
        "gather": {
          "logged": 1634852261599
        }
      }
    },
    {
      "cell_type": "markdown",
      "source": [
        "## 1.2. Configure workspace details and get a handle to the workspace\n",
        "\n",
        "To connect to a workspace, we need identifier parameters - a subscription, resource group and workspace name. We will use these details in the `MLClient` from `azure.ai.ml` to get a handle to the required Azure Machine Learning workspace. We use the [default azure authentication](https://docs.microsoft.com/en-us/python/api/azure-identity/azure.identity.defaultazurecredential?view=azure-python) for this tutorial. Check the [configuration notebook](../../configuration.ipynb) for more details on how to configure credentials and connect to a workspace."
      ],
      "metadata": {}
    },
    {
      "cell_type": "code",
      "source": [
        "credential = DefaultAzureCredential()\n",
        "ml_client = None\n",
        "try:\n",
        "    ml_client = MLClient.from_config(credential)\n",
        "except Exception as ex:\n",
        "    print(ex)\n",
        "    # Enter details of your AzureML workspace\n",
        "    subscription_id = \"14585b9f-5c83-4a76-8055-42149123f99f\"\n",
        "    resource_group = \"azureml_rg\"\n",
        "    workspace = \"azureml_dev_jamg\"\n",
        "    ml_client = MLClient(credential, subscription_id, resource_group, workspace)"
      ],
      "outputs": [
        {
          "output_type": "stream",
          "name": "stdout",
          "text": "We could not find config.json in: . or in its parent directories. \n"
        }
      ],
      "execution_count": 2,
      "metadata": {
        "collapsed": false,
        "gather": {
          "logged": 1634852261884
        },
        "jupyter": {
          "outputs_hidden": false,
          "source_hidden": false
        },
        "nteract": {
          "transient": {
            "deleting": false
          }
        }
      }
    },
    {
      "cell_type": "markdown",
      "source": [
        "### Show Azure ML Workspace information"
      ],
      "metadata": {}
    },
    {
      "cell_type": "code",
      "source": [
        "workspace = ml_client.workspaces.get(name=ml_client.workspace_name)\n",
        "\n",
        "subscription_id = ml_client.connections._subscription_id\n",
        "resource_group = workspace.resource_group\n",
        "workspace_name = ml_client.workspace_name\n",
        "\n",
        "output = {}\n",
        "output[\"Workspace\"] = workspace_name\n",
        "output[\"Subscription ID\"] = subscription_id\n",
        "output[\"Resource Group\"] = resource_group\n",
        "output[\"Location\"] = workspace.location\n",
        "output"
      ],
      "outputs": [
        {
          "output_type": "execute_result",
          "execution_count": 3,
          "data": {
            "text/plain": "{'Workspace': 'azureml_dev_jamg',\n 'Subscription ID': '14585b9f-5c83-4a76-8055-42149123f99f',\n 'Resource Group': 'azureml_rg',\n 'Location': 'eastus'}"
          },
          "metadata": {}
        }
      ],
      "execution_count": 3,
      "metadata": {}
    },
    {
      "cell_type": "markdown",
      "source": [
        "# 2. MLTable with input Training Data\n",
        "\n",
        "## 2.1. Create MLTable data input\n",
        "Please make use of the MLTable files present within the data folder at the same location (in the repo) as this notebook."
      ],
      "metadata": {}
    },
    {
      "cell_type": "code",
      "source": [
        "# Training MLTable defined locally, with local data to be uploaded\n",
        "my_training_data_input = Input(\n",
        "    type=AssetTypes.MLTABLE, path=\"./data/training-mltable-folder\"\n",
        ")\n",
        "\n",
        "# WITH REMOTE PATH If available already in the cloud/workspace-blob-store\n",
        "# my_training_data_input  = Input(type=AssetTypes.MLTABLE, path=\"azureml://datastores/workspaceblobstore/paths/my-regression-mltable\")"
      ],
      "outputs": [],
      "execution_count": 4,
      "metadata": {}
    },
    {
      "cell_type": "markdown",
      "source": [
        "# 3. Compute target setup\n",
        "\n",
        "### Create or Attach existing AmlCompute\n",
        "A compute target is required to execute the Automated ML run. In this tutorial, you create AmlCompute as your training compute resource.\n",
        "\n",
        "> Note that if you have an AzureML Data Scientist role, you will not have permission to create compute resources. Talk to your workspace or IT admin to create the compute targets described in this section, if they do not already exist.\n",
        "\n",
        "#### Creation of AmlCompute takes approximately 5 minutes. \n",
        "If the AmlCompute with that name is already in your workspace this code will skip the creation process.\n",
        "As with other Azure services, there are limits on certain resources (e.g. AmlCompute) associated with the Azure Machine Learning service. Please read [this article](https://docs.microsoft.com/en-us/azure/machine-learning/service/how-to-manage-quotas) on the default limits and how to request more quota."
      ],
      "metadata": {}
    },
    {
      "cell_type": "code",
      "source": [
        "from azure.ai.ml.entities import AmlCompute\n",
        "from azure.core.exceptions import ResourceNotFoundError\n",
        "\n",
        "compute_name = \"cpu-cluster\"\n",
        "\n",
        "try:\n",
        "    _ = ml_client.compute.get(compute_name)\n",
        "    print(\"Found existing compute target.\")\n",
        "except ResourceNotFoundError:\n",
        "    print(\"Creating a new compute target...\")\n",
        "    compute_config = AmlCompute(\n",
        "        name=compute_name,\n",
        "        type=\"amlcompute\",\n",
        "        size=\"STANDARD_DS12_V2\",\n",
        "        idle_time_before_scale_down=120,\n",
        "        min_instances=0,\n",
        "        max_instances=6,\n",
        "    )\n",
        "    ml_client.begin_create_or_update(compute_config).result()"
      ],
      "outputs": [
        {
          "output_type": "stream",
          "name": "stdout",
          "text": "Found existing compute target.\n"
        }
      ],
      "execution_count": 5,
      "metadata": {}
    },
    {
      "cell_type": "markdown",
      "source": [
        "# 4. Configure and run the AutoML Regression training job\n",
        "In this section we will configure and run the AutoML regression job.\n",
        "\n",
        "## 4.1 Configure the job through the regression() factory function\n",
        "\n",
        "### regression() function parameters:\n",
        "\n",
        "The `regression()` factory function allows user to configure AutoML for the regression task for the most common scenarios with the following properties.\n",
        "\n",
        "- `target_column_name` - The name of the column to target for predictions. It must always be specified. This parameter is applicable to 'training_data', 'validation_data' and 'test_data'.\n",
        "- `primary_metric` - The metric that AutoML will optimize for model selection.\n",
        "- `training_data` - The data to be used for training. It should contain both training feature columns and a target column. Optionally, this data can be split for segregating a validation or test dataset. \n",
        "You can use a registered MLTable in the workspace using the format '<mltable_name>:<version>' OR you can use a local file or folder as a MLTable. For e.g Input(mltable='my_mltable:1') OR Input(mltable=MLTable(local_path=\"./data\"))\n",
        "The parameter 'training_data' must always be provided.\n",
        "- `compute` - The compute on which the AutoML job will run. In this example we are using a compute called 'cpu-cluster' present in the workspace. You can replace it any other compute in the workspace. \n",
        "- `name` - The name of the Job/Run. This is an optional property. If not specified, a random name will be generated.\n",
        "- `experiment_name` - The name of the Experiment. An Experiment is like a folder with multiple runs in Azure ML Workspace that should be related to the same logical machine learning experiment.\n",
        "\n",
        "### set_limits() function parameters:\n",
        "This is an optional configuration method to configure limits parameters such as timeouts.     \n",
        "    \n",
        "- `timeout_minutes` - Maximum amount of time in minutes that the whole AutoML job can take before the job terminates. This timeout includes setup, featurization and training runs but does not include the ensembling and model explainability runs at the end of the process since those actions need to happen once all the trials (children jobs) are done. If not specified, the default job's total timeout is 6 days (8,640 minutes). To specify a timeout less than or equal to 1 hour (60 minutes), make sure your dataset's size is not greater than 10,000,000 (rows times column) or an error results.\n",
        "\n",
        "- `trial_timeout_minutes` - Maximum time in minutes that each trial (child job) can run for before it terminates. If not specified, a value of 1 month or 43200 minutes is used.\n",
        "    \n",
        "- `max_trials` - The maximum number of trials/runs each with a different combination of algorithm and hyperparameters to try during an AutoML job. If not specified, the default is 1000 trials. If using 'enable_early_termination' the number of trials used can be smaller.\n",
        "    \n",
        "- `max_concurrent_trials` - Represents the maximum number of trials (children jobs) that would be executed in parallel. It's a good practice to match this number with the number of nodes your cluster.\n",
        "    \n",
        "- `enable_early_termination` - Whether to enable early termination if the score is not improving in the short term. \n",
        "    "
      ],
      "metadata": {}
    },
    {
      "cell_type": "code",
      "source": [
        "# general job parameters\n",
        "max_trials = 5\n",
        "exp_name = \"dpv2-regression-experiment\""
      ],
      "outputs": [],
      "execution_count": 6,
      "metadata": {
        "tags": [
          "parameters"
        ]
      }
    },
    {
      "cell_type": "code",
      "source": [
        "# Create the AutoML regression job with the related factory-function.\n",
        "\n",
        "regression_job = automl.regression(\n",
        "    compute=compute_name,\n",
        "    experiment_name=exp_name,\n",
        "    training_data=my_training_data_input,\n",
        "    target_column_name=\"ERP\",\n",
        "    primary_metric=\"R2Score\",\n",
        "    n_cross_validations=5,\n",
        "    enable_model_explainability=True,\n",
        "    tags={\"my_custom_tag\": \"My custom value\"},\n",
        ")\n",
        "\n",
        "# Limits are all optional\n",
        "regression_job.set_limits(\n",
        "    timeout_minutes=600,\n",
        "    trial_timeout_minutes=20,\n",
        "    max_trials=max_trials,\n",
        "    # max_concurrent_trials = 4,\n",
        "    # max_cores_per_trial: -1,\n",
        "    enable_early_termination=True,\n",
        ")"
      ],
      "outputs": [
        {
          "output_type": "stream",
          "name": "stderr",
          "text": "Class RegressionJob: This is an experimental class, and may change at any time. Please see https://aka.ms/azuremlexperimental for more information.\n"
        }
      ],
      "execution_count": 7,
      "metadata": {
        "collapsed": false,
        "gather": {
          "logged": 1634852262026
        },
        "jupyter": {
          "outputs_hidden": false,
          "source_hidden": false
        },
        "name": "regression-configuration",
        "nteract": {
          "transient": {
            "deleting": false
          }
        }
      }
    },
    {
      "cell_type": "code",
      "source": [
        "# Configure custom featurization\n",
        "# You can skip this cell to run AutoML using automatic featurization\n",
        "from azure.ai.ml.automl import ColumnTransformer\n",
        "\n",
        "transformer_params = {\n",
        "    \"imputer\": [\n",
        "        ColumnTransformer(fields=[\"CACH\"], parameters={\"strategy\": \"most_frequent\"}),\n",
        "        ColumnTransformer(fields=[\"PRP\"], parameters={\"strategy\": \"most_frequent\"}),\n",
        "    ],\n",
        "}\n",
        "regression_job.set_featurization(\n",
        "    mode=\"custom\",\n",
        "    transformer_params=transformer_params,\n",
        "    blocked_transformers=[\"LabelEncoder\"],\n",
        "    column_name_and_types={\"CHMIN\": \"Categorical\"},\n",
        ")"
      ],
      "outputs": [],
      "execution_count": 8,
      "metadata": {}
    },
    {
      "cell_type": "markdown",
      "source": [
        "## 4.2 Run the Command\n",
        "Using the `MLClient` created earlier, we will now run this Command in the workspace."
      ],
      "metadata": {}
    },
    {
      "cell_type": "code",
      "source": [
        "# Submit the AutoML job\n",
        "returned_job = ml_client.jobs.create_or_update(\n",
        "    regression_job\n",
        ")  # submit the job to the backend\n",
        "\n",
        "print(f\"Created job: {returned_job}\")"
      ],
      "outputs": [
        {
          "output_type": "stream",
          "name": "stdout",
          "text": "Created job: RegressionJob({'log_verbosity': <LogVerbosity.INFO: 'Info'>, 'task_type': <TaskType.REGRESSION: 'Regression'>, 'environment_id': None, 'environment_variables': None, 'outputs': {}, 'type': 'automl', 'status': 'NotStarted', 'log_files': None, 'name': 'jolly_onion_tm659cl2bv', 'description': None, 'tags': {'my_custom_tag': 'My custom value'}, 'properties': {}, 'id': '/subscriptions/14585b9f-5c83-4a76-8055-42149123f99f/resourceGroups/azureml_rg/providers/Microsoft.MachineLearningServices/workspaces/azureml_dev_jamg/jobs/jolly_onion_tm659cl2bv', 'base_path': './', 'creation_context': <azure.ai.ml._restclient.v2022_02_01_preview.models._models_py3.SystemData object at 0x7feb303aa020>, 'serialize': <msrest.serialization.Serializer object at 0x7feb30dd8fa0>, 'inputs': {}, 'display_name': 'jolly_onion_tm659cl2bv', 'experiment_name': 'dpv2-regression-experiment', 'compute': 'cpu-cluster', 'services': {'Tracking': <azure.ai.ml._restclient.v2022_02_01_preview.models._models_py3.JobService object at 0x7feb303a9720>, 'Studio': <azure.ai.ml._restclient.v2022_02_01_preview.models._models_py3.JobService object at 0x7feb303aa380>}, 'resources': <azure.ai.ml._restclient.v2022_02_01_preview.models._models_py3.ResourceConfiguration object at 0x7feb303a9c00>, 'identity': None, 'data': <azure.ai.ml._restclient.v2022_02_01_preview.models._models_py3.TableVerticalDataSettings object at 0x7feb303a9db0>, 'featurization': <azure.ai.ml.entities._job.automl.tabular.featurization_settings.TabularFeaturizationSettings object at 0x7feb55ec4ca0>, 'limits': <azure.ai.ml.entities._job.automl.tabular.limit_settings.TabularLimitSettings object at 0x7feb30373370>, 'training': <azure.ai.ml.entities._job.automl.training_settings.RegressionTrainingSettings object at 0x7feb30dda9b0>, 'primary_metric': <RegressionPrimaryMetrics.R2_SCORE: 'R2Score'>})\n"
        }
      ],
      "execution_count": 9,
      "metadata": {
        "collapsed": false,
        "gather": {
          "logged": 1634852267930
        },
        "jupyter": {
          "outputs_hidden": false,
          "source_hidden": false
        },
        "nteract": {
          "transient": {
            "deleting": false
          }
        }
      }
    },
    {
      "cell_type": "markdown",
      "source": [
        "### Wait until the AutoML job is finished\n",
        "ml_client.jobs.stream(returned_job.name) waits until the specified job is finished"
      ],
      "metadata": {}
    },
    {
      "cell_type": "code",
      "source": [
        "# Wait for job to complete and stream updates\n",
        "ml_client.jobs.stream(returned_job.name)"
      ],
      "outputs": [
        {
          "output_type": "stream",
          "name": "stdout",
          "text": "RunId: jolly_onion_tm659cl2bv\nWeb View: https://ml.azure.com/runs/jolly_onion_tm659cl2bv?wsid=/subscriptions/14585b9f-5c83-4a76-8055-42149123f99f/resourcegroups/azureml_rg/workspaces/azureml_dev_jamg\n\nExecution Summary\n=================\nRunId: jolly_onion_tm659cl2bv\nWeb View: https://ml.azure.com/runs/jolly_onion_tm659cl2bv?wsid=/subscriptions/14585b9f-5c83-4a76-8055-42149123f99f/resourcegroups/azureml_rg/workspaces/azureml_dev_jamg\n\n"
        }
      ],
      "execution_count": 10,
      "metadata": {}
    },
    {
      "cell_type": "code",
      "source": [
        "# Get a URL for the status of the job\n",
        "returned_job.services[\"Studio\"].endpoint"
      ],
      "outputs": [
        {
          "output_type": "execute_result",
          "execution_count": 11,
          "data": {
            "text/plain": "'https://ml.azure.com/runs/jolly_onion_tm659cl2bv?wsid=/subscriptions/14585b9f-5c83-4a76-8055-42149123f99f/resourcegroups/azureml_rg/workspaces/azureml_dev_jamg&tid=16b3c013-d300-468d-ac64-7eda0820b6d3'"
          },
          "metadata": {}
        }
      ],
      "execution_count": 11,
      "metadata": {}
    },
    {
      "cell_type": "code",
      "source": [
        "print(returned_job.name)"
      ],
      "outputs": [
        {
          "output_type": "stream",
          "name": "stdout",
          "text": "jolly_onion_tm659cl2bv\n"
        }
      ],
      "execution_count": 14,
      "metadata": {}
    },
    {
      "cell_type": "markdown",
      "source": [
        "# 5. Retrieve the Best Trial (Best Model's trial/run)\n",
        "Use the MLFLowClient to access the results (such as Models, Artifacts, Metrics) of a previously completed AutoML Trial."
      ],
      "metadata": {}
    },
    {
      "cell_type": "markdown",
      "source": [
        "## Initialize MLFlow Client\n",
        "The models and artifacts that are produced by AutoML can be accessed via the MLFlow interface. \n",
        "Initialize the MLFlow client here, and set the backend as Azure ML, via. the MLFlow Client.\n",
        "\n",
        "*IMPORTANT*, you need to have installed the latest MLFlow packages with:\n",
        "\n",
        "    pip install azureml-mlflow\n",
        "\n",
        "    pip install mlflow"
      ],
      "metadata": {}
    },
    {
      "cell_type": "markdown",
      "source": [
        "### Obtain the tracking URI for MLFlow"
      ],
      "metadata": {}
    },
    {
      "cell_type": "code",
      "source": [
        "import mlflow\n",
        "\n",
        "# Obtain the tracking URL from MLClient\n",
        "MLFLOW_TRACKING_URI = ml_client.workspaces.get(\n",
        "    name=ml_client.workspace_name\n",
        ").mlflow_tracking_uri\n",
        "\n",
        "print(MLFLOW_TRACKING_URI)"
      ],
      "outputs": [
        {
          "output_type": "stream",
          "name": "stdout",
          "text": "azureml://eastus.api.azureml.ms/mlflow/v1.0/subscriptions/14585b9f-5c83-4a76-8055-42149123f99f/resourceGroups/azureml_rg/providers/Microsoft.MachineLearningServices/workspaces/azureml_dev_jamg\n"
        }
      ],
      "execution_count": 4,
      "metadata": {}
    },
    {
      "cell_type": "code",
      "source": [
        "# Set the MLFLOW TRACKING URI\n",
        "\n",
        "mlflow.set_tracking_uri(MLFLOW_TRACKING_URI)\n",
        "\n",
        "print(\"\\nCurrent tracking uri: {}\".format(mlflow.get_tracking_uri()))"
      ],
      "outputs": [
        {
          "output_type": "stream",
          "name": "stdout",
          "text": "\nCurrent tracking uri: azureml://eastus.api.azureml.ms/mlflow/v1.0/subscriptions/14585b9f-5c83-4a76-8055-42149123f99f/resourceGroups/azureml_rg/providers/Microsoft.MachineLearningServices/workspaces/azureml_dev_jamg\n"
        }
      ],
      "execution_count": 5,
      "metadata": {}
    },
    {
      "cell_type": "code",
      "source": [
        "from mlflow.tracking.client import MlflowClient\n",
        "\n",
        "# Initialize MLFlow client\n",
        "mlflow_client = MlflowClient()"
      ],
      "outputs": [],
      "execution_count": 6,
      "metadata": {}
    },
    {
      "cell_type": "markdown",
      "source": [
        "### Get the AutoML parent Job"
      ],
      "metadata": {}
    },
    {
      "cell_type": "code",
      "source": [
        "job_name = returned_job.name\n",
        "job_name = 'jolly_onion_tm659cl2bv'\n",
        "\n",
        "# Example if providing an specific Job name/ID\n",
        "# job_name = \"b4e95546-0aa1-448e-9ad6-002e3207b4fc\"\n",
        "\n",
        "# Get the parent run\n",
        "mlflow_parent_run = mlflow_client.get_run(job_name)\n",
        "\n",
        "print(\"Parent Run: \")\n",
        "print(mlflow_parent_run)"
      ],
      "outputs": [
        {
          "output_type": "stream",
          "name": "stdout",
          "text": "Parent Run: \n<Run: data=<RunData: metrics={'explained_variance': 0.8934360381091077,\n 'mean_absolute_error': 13.545632733661114,\n 'mean_absolute_percentage_error': 8.756661570034687,\n 'median_absolute_error': 2.46805419921875,\n 'normalized_mean_absolute_error': 0.011075742218856186,\n 'normalized_median_absolute_error': 0.0020180328693530257,\n 'normalized_root_mean_squared_error': 0.03397167276275391,\n 'normalized_root_mean_squared_log_error': 0.032270099470456816,\n 'r2_score': 0.8890376716187035,\n 'root_mean_squared_error': 41.54735578884804,\n 'root_mean_squared_log_error': 0.1403578669573778,\n 'spearman_correlation': 0.9825951205888839}, params={}, tags={'_azureml.ComputeTargetType': 'STANDARD_DS11_V2',\n 'automl_best_child_run_id': 'jolly_onion_tm659cl2bv_1',\n 'fit_time': '',\n 'iteration': '',\n 'mlflow.rootRunId': 'jolly_onion_tm659cl2bv',\n 'mlflow.runName': 'jolly_onion_tm659cl2bv',\n 'mlflow.user': 'Jose Medina Gomez',\n 'model_explain_best_run_child_id': 'jolly_onion_tm659cl2bv_1',\n 'model_explain_run': 'best_run',\n 'my_custom_tag': 'My custom value',\n 'pipeline_id_000': 'faf12f74cf9bbd358ca5525682c5030d36f7be7c;4bc4ec47eb8df2d5d68b361cd60120e65196f757;5cc37daec73ea64276ef956449645cdb519fdfc6;__AutoML_Ensemble__;__AutoML_Stack_Ensemble__',\n 'predicted_cost': '',\n 'run_algorithm': '',\n 'run_preprocessor': '',\n 'score': '',\n 'training_percent': ''}>, info=<RunInfo: artifact_uri='azureml://eastus.api.azureml.ms/mlflow/v2.0/subscriptions/14585b9f-5c83-4a76-8055-42149123f99f/resourceGroups/azureml_rg/providers/Microsoft.MachineLearningServices/workspaces/azureml_dev_jamg/experiments/62839098-29d1-492f-8724-1e810af4245a/runs/jolly_onion_tm659cl2bv/artifacts', end_time=1675911068196, experiment_id='62839098-29d1-492f-8724-1e810af4245a', lifecycle_stage='active', run_id='jolly_onion_tm659cl2bv', run_name='jolly_onion_tm659cl2bv', run_uuid='jolly_onion_tm659cl2bv', start_time=1675910383658, status='FINISHED', user_id='8321d1a2-2746-49fa-98eb-a2e6a7941583'>>\n"
        }
      ],
      "execution_count": 8,
      "metadata": {}
    },
    {
      "cell_type": "code",
      "source": [
        "# Print parent run tags. 'automl_best_child_run_id' tag should be there.\n",
        "print(mlflow_parent_run.data.tags)"
      ],
      "outputs": [
        {
          "output_type": "stream",
          "name": "stdout",
          "text": "{'my_custom_tag': 'My custom value', 'model_explain_run': 'best_run', '_azureml.ComputeTargetType': 'STANDARD_DS11_V2', 'pipeline_id_000': 'faf12f74cf9bbd358ca5525682c5030d36f7be7c;4bc4ec47eb8df2d5d68b361cd60120e65196f757;5cc37daec73ea64276ef956449645cdb519fdfc6;__AutoML_Ensemble__;__AutoML_Stack_Ensemble__', 'score': '', 'predicted_cost': '', 'fit_time': '', 'training_percent': '', 'iteration': '', 'run_preprocessor': '', 'run_algorithm': '', 'automl_best_child_run_id': 'jolly_onion_tm659cl2bv_1', 'model_explain_best_run_child_id': 'jolly_onion_tm659cl2bv_1', 'mlflow.rootRunId': 'jolly_onion_tm659cl2bv', 'mlflow.runName': 'jolly_onion_tm659cl2bv', 'mlflow.user': 'Jose Medina Gomez'}\n"
        }
      ],
      "execution_count": 9,
      "metadata": {}
    },
    {
      "cell_type": "markdown",
      "source": [
        "## Get the AutoML best child run"
      ],
      "metadata": {}
    },
    {
      "cell_type": "code",
      "source": [
        "# Get the best model's child run\n",
        "\n",
        "best_child_run_id = mlflow_parent_run.data.tags[\"automl_best_child_run_id\"]\n",
        "print(\"Found best child run id: \", best_child_run_id)\n",
        "\n",
        "best_run = mlflow_client.get_run(best_child_run_id)\n",
        "\n",
        "print(\"Best child run: \")\n",
        "print(best_run)"
      ],
      "outputs": [
        {
          "output_type": "stream",
          "name": "stdout",
          "text": "Found best child run id:  jolly_onion_tm659cl2bv_1\nBest child run: \n<Run: data=<RunData: metrics={'explained_variance': 0.8934360381091077,\n 'mean_absolute_error': 13.545632733661114,\n 'mean_absolute_percentage_error': 8.756661570034687,\n 'median_absolute_error': 2.46805419921875,\n 'normalized_mean_absolute_error': 0.011075742218856186,\n 'normalized_median_absolute_error': 0.0020180328693530257,\n 'normalized_root_mean_squared_error': 0.03397167276275391,\n 'normalized_root_mean_squared_log_error': 0.032270099470456816,\n 'r2_score': 0.8890376716187035,\n 'root_mean_squared_error': 41.54735578884804,\n 'root_mean_squared_log_error': 0.1403578669573778,\n 'spearman_correlation': 0.9825951205888839}, params={}, tags={'mlflow.parentRunId': 'jolly_onion_tm659cl2bv',\n 'mlflow.rootRunId': 'jolly_onion_tm659cl2bv',\n 'mlflow.runName': 'khaki_rocket_zpkbsfyb',\n 'mlflow.user': 'Jose Medina Gomez',\n 'model_explain_run_id': 'jolly_onion_tm659cl2bv_ModelExplain',\n 'model_explanation': 'True'}>, info=<RunInfo: artifact_uri='azureml://eastus.api.azureml.ms/mlflow/v2.0/subscriptions/14585b9f-5c83-4a76-8055-42149123f99f/resourceGroups/azureml_rg/providers/Microsoft.MachineLearningServices/workspaces/azureml_dev_jamg/experiments/62839098-29d1-492f-8724-1e810af4245a/runs/jolly_onion_tm659cl2bv_1/artifacts', end_time=1675910929147, experiment_id='62839098-29d1-492f-8724-1e810af4245a', lifecycle_stage='active', run_id='jolly_onion_tm659cl2bv_1', run_name='khaki_rocket_zpkbsfyb', run_uuid='jolly_onion_tm659cl2bv_1', start_time=1675910901052, status='FINISHED', user_id='8321d1a2-2746-49fa-98eb-a2e6a7941583'>>\n"
        }
      ],
      "execution_count": 10,
      "metadata": {}
    },
    {
      "cell_type": "markdown",
      "source": [
        "## Get best model run's metrics\n",
        "\n",
        "Access the results (such as Models, Artifacts, Metrics) of a previously completed AutoML Run."
      ],
      "metadata": {}
    },
    {
      "cell_type": "code",
      "source": [
        "best_run.data.metrics"
      ],
      "outputs": [
        {
          "output_type": "execute_result",
          "execution_count": 11,
          "data": {
            "text/plain": "{'mean_absolute_percentage_error': 8.756661570034687,\n 'normalized_root_mean_squared_log_error': 0.032270099470456816,\n 'normalized_root_mean_squared_error': 0.03397167276275391,\n 'mean_absolute_error': 13.545632733661114,\n 'root_mean_squared_log_error': 0.1403578669573778,\n 'normalized_mean_absolute_error': 0.011075742218856186,\n 'explained_variance': 0.8934360381091077,\n 'r2_score': 0.8890376716187035,\n 'root_mean_squared_error': 41.54735578884804,\n 'spearman_correlation': 0.9825951205888839,\n 'normalized_median_absolute_error': 0.0020180328693530257,\n 'median_absolute_error': 2.46805419921875}"
          },
          "metadata": {}
        }
      ],
      "execution_count": 11,
      "metadata": {}
    },
    {
      "cell_type": "markdown",
      "source": [
        "## Download the best model locally\n",
        "\n",
        "Access the results (such as Models, Artifacts, Metrics) of a previously completed AutoML Run."
      ],
      "metadata": {}
    },
    {
      "cell_type": "code",
      "source": [
        "import os\n",
        "\n",
        "# Create local folder\n",
        "local_dir = \"./artifact_downloads\"\n",
        "if not os.path.exists(local_dir):\n",
        "    os.mkdir(local_dir)"
      ],
      "outputs": [],
      "execution_count": 12,
      "metadata": {}
    },
    {
      "cell_type": "code",
      "source": [
        "# Download run's artifacts/outputs\n",
        "local_path = mlflow_client.download_artifacts(\n",
        "    best_run.info.run_id, \"outputs\", local_dir\n",
        ")\n",
        "print(\"Artifacts downloaded in: {}\".format(local_path))\n",
        "print(\"Artifacts: {}\".format(os.listdir(local_path)))"
      ],
      "outputs": [
        {
          "output_type": "stream",
          "name": "stderr",
          "text": "/tmp/ipykernel_25018/2387391148.py:2: FutureWarning: ``mlflow.tracking.client.MlflowClient.download_artifacts`` is deprecated since 2.0. This method will be removed in a future release. Use ``mlflow.artifacts.download_artifacts`` instead.\n  local_path = mlflow_client.download_artifacts(\n"
        },
        {
          "output_type": "stream",
          "name": "stdout",
          "text": "Artifacts downloaded in: /mnt/batch/tasks/shared/LS_root/mounts/clusters/jomedincpu/code/Users/jomedin/taxi-fare-predictions/notebooks/AutoML/artifact_downloads/outputs\nArtifacts: ['conda_env_v_1_0_0.yml', 'engineered_feature_names.json', 'env_dependencies.json', 'featurization_summary.json', 'generated_code', 'internal_cross_validated_models.pkl', 'mlflow-model', 'model.pkl', 'pipeline_graph.json', 'run_id.txt', 'scoring_file_pbi_v_1_0_0.py', 'scoring_file_v_1_0_0.py', 'scoring_file_v_2_0_0.py']\n"
        }
      ],
      "execution_count": 13,
      "metadata": {}
    },
    {
      "cell_type": "code",
      "source": [
        "# Show the contents of the MLFlow model folder\n",
        "os.listdir(\"./artifact_downloads/outputs/mlflow-model\")"
      ],
      "outputs": [
        {
          "output_type": "execute_result",
          "execution_count": 14,
          "data": {
            "text/plain": "['conda.yaml', 'MLmodel', 'model.pkl', 'python_env.yaml', 'requirements.txt']"
          },
          "metadata": {}
        }
      ],
      "execution_count": 14,
      "metadata": {}
    },
    {
      "cell_type": "markdown",
      "source": [
        "# 6. Register Best Model and Deploy"
      ],
      "metadata": {}
    },
    {
      "cell_type": "markdown",
      "source": [
        "## 6.1 Create managed online endpoint"
      ],
      "metadata": {}
    },
    {
      "cell_type": "code",
      "source": [
        "# import required libraries\n",
        "from azure.ai.ml.entities import (\n",
        "    ManagedOnlineEndpoint,\n",
        "    ManagedOnlineDeployment,\n",
        "    Model,\n",
        "    Environment,\n",
        "    CodeConfiguration,\n",
        "    ProbeSettings,\n",
        ")\n",
        "from azure.ai.ml.constants import ModelType"
      ],
      "outputs": [],
      "execution_count": 15,
      "metadata": {}
    },
    {
      "cell_type": "code",
      "source": [
        "# Creating a unique endpoint name with current datetime to avoid conflicts\n",
        "import datetime\n",
        "\n",
        "online_endpoint_name = \"regression-\" + datetime.datetime.now().strftime(\"%m%d%H%M%f\")\n",
        "\n",
        "# create an online endpoint\n",
        "endpoint = ManagedOnlineEndpoint(\n",
        "    name=online_endpoint_name,\n",
        "    description=\"this is a sample online endpoint for mlflow model\",\n",
        "    auth_mode=\"key\",\n",
        "    tags={\"foo\": \"bar\"},\n",
        ")"
      ],
      "outputs": [],
      "execution_count": 16,
      "metadata": {}
    },
    {
      "cell_type": "code",
      "source": [
        "ml_client.begin_create_or_update(endpoint)"
      ],
      "outputs": [
        {
          "output_type": "execute_result",
          "execution_count": 18,
          "data": {
            "text/plain": "ManagedOnlineEndpoint({'public_network_access': 'Enabled', 'provisioning_state': 'Succeeded', 'scoring_uri': 'https://regression-02090312349920.eastus.inference.ml.azure.com/score', 'swagger_uri': 'https://regression-02090312349920.eastus.inference.ml.azure.com/swagger.json', 'name': 'regression-02090312349920', 'description': 'this is a sample online endpoint for mlflow model', 'tags': {'foo': 'bar'}, 'properties': {'azureml.onlineendpointid': '/subscriptions/14585b9f-5c83-4a76-8055-42149123f99f/resourcegroups/azureml_rg/providers/microsoft.machinelearningservices/workspaces/azureml_dev_jamg/onlineendpoints/regression-02090312349920', 'AzureAsyncOperationUri': 'https://management.azure.com/subscriptions/14585b9f-5c83-4a76-8055-42149123f99f/providers/Microsoft.MachineLearningServices/locations/eastus/mfeOperationsStatus/oe:607be527-f51c-44df-a376-cb3876e5ac0b:f84d6e04-943c-495e-a01d-b179b71dd7fc?api-version=2022-02-01-preview'}, 'id': '/subscriptions/14585b9f-5c83-4a76-8055-42149123f99f/resourceGroups/azureml_rg/providers/Microsoft.MachineLearningServices/workspaces/azureml_dev_jamg/onlineEndpoints/regression-02090312349920', 'base_path': './', 'creation_context': None, 'serialize': <msrest.serialization.Serializer object at 0x7f8da509efb0>, 'auth_mode': 'key', 'location': 'eastus', 'identity': <azure.ai.ml._restclient.v2022_02_01_preview.models._models_py3.ManagedServiceIdentity object at 0x7f8da509f460>, 'traffic': {}, 'mirror_traffic': {}, 'kind': 'Managed'})"
          },
          "metadata": {}
        }
      ],
      "execution_count": 18,
      "metadata": {}
    },
    {
      "cell_type": "markdown",
      "source": [
        "## 6.2 Register best model and deploy"
      ],
      "metadata": {}
    },
    {
      "cell_type": "markdown",
      "source": [
        "### Register model"
      ],
      "metadata": {}
    },
    {
      "cell_type": "code",
      "source": [
        "model_name = \"hardware-performance-model\"\n",
        "model = Model(\n",
        "    path=f\"azureml://jobs/{best_run.info.run_id}/outputs/artifacts/outputs/mlflow-model/\",\n",
        "    name=model_name,\n",
        "    description=\"my sample regression model\",\n",
        "    type=AssetTypes.MLFLOW_MODEL,\n",
        ")\n",
        "\n",
        "# for downloaded file\n",
        "# model = Model(path=\"artifact_downloads/outputs/model.pkl\", name=model_name)\n",
        "\n",
        "registered_model = ml_client.models.create_or_update(model)"
      ],
      "outputs": [],
      "execution_count": 19,
      "metadata": {}
    },
    {
      "cell_type": "code",
      "source": [
        "registered_model.id"
      ],
      "outputs": [
        {
          "output_type": "execute_result",
          "execution_count": 20,
          "data": {
            "text/plain": "'/subscriptions/14585b9f-5c83-4a76-8055-42149123f99f/resourceGroups/azureml_rg/providers/Microsoft.MachineLearningServices/workspaces/azureml_dev_jamg/models/hardware-performance-model/versions/1'"
          },
          "metadata": {}
        }
      ],
      "execution_count": 20,
      "metadata": {}
    },
    {
      "cell_type": "markdown",
      "source": [
        "### Deploy"
      ],
      "metadata": {}
    },
    {
      "cell_type": "code",
      "source": [
        "deployment = ManagedOnlineDeployment(\n",
        "    name=\"hardware-performance-deploy\",\n",
        "    endpoint_name=online_endpoint_name,\n",
        "    model=registered_model.id,\n",
        "    instance_type=\"Standard_DS3_V2\",\n",
        "    instance_count=1,\n",
        "    liveness_probe=ProbeSettings(\n",
        "        failure_threshold=30,\n",
        "        success_threshold=1,\n",
        "        timeout=2,\n",
        "        period=10,\n",
        "        initial_delay=2000,\n",
        "    ),\n",
        "    readiness_probe=ProbeSettings(\n",
        "        failure_threshold=10,\n",
        "        success_threshold=1,\n",
        "        timeout=10,\n",
        "        period=10,\n",
        "        initial_delay=2000,\n",
        "    ),\n",
        ")"
      ],
      "outputs": [],
      "execution_count": 21,
      "metadata": {}
    },
    {
      "cell_type": "code",
      "source": [
        "ml_client.online_deployments.begin_create_or_update(deployment).result()"
      ],
      "outputs": [
        {
          "output_type": "stream",
          "name": "stderr",
          "text": "Check: endpoint regression-02090312349920 exists\nCreating/updating online deployment hardware-performance-deploy "
        },
        {
          "output_type": "stream",
          "name": "stdout",
          "text": "..............................................................................................................................................................................................................................................................................................................................................................................................................................................................................."
        },
        {
          "output_type": "stream",
          "name": "stderr",
          "text": "Done (40m 50s)\n"
        },
        {
          "output_type": "error",
          "ename": "AttributeError",
          "evalue": "'NoneType' object has no attribute 'result'",
          "traceback": [
            "\u001b[0;31m---------------------------------------------------------------------------\u001b[0m",
            "\u001b[0;31mAttributeError\u001b[0m                            Traceback (most recent call last)",
            "Input \u001b[0;32mIn [22]\u001b[0m, in \u001b[0;36m<cell line: 1>\u001b[0;34m()\u001b[0m\n\u001b[0;32m----> 1\u001b[0m \u001b[43mml_client\u001b[49m\u001b[38;5;241;43m.\u001b[39;49m\u001b[43monline_deployments\u001b[49m\u001b[38;5;241;43m.\u001b[39;49m\u001b[43mbegin_create_or_update\u001b[49m\u001b[43m(\u001b[49m\u001b[43mdeployment\u001b[49m\u001b[43m)\u001b[49m\u001b[38;5;241;43m.\u001b[39;49m\u001b[43mresult\u001b[49m()\n",
            "\u001b[0;31mAttributeError\u001b[0m: 'NoneType' object has no attribute 'result'"
          ]
        }
      ],
      "execution_count": 22,
      "metadata": {
        "gather": {
          "logged": 1675953905169
        }
      }
    },
    {
      "cell_type": "code",
      "source": [
        "# hardware performance deployment to take 100% traffic\n",
        "endpoint.traffic = {\"hardware-performance-deploy\": 100}\n",
        "ml_client.begin_create_or_update(endpoint)"
      ],
      "outputs": [
        {
          "output_type": "execute_result",
          "execution_count": 23,
          "data": {
            "text/plain": "ManagedOnlineEndpoint({'public_network_access': 'Enabled', 'provisioning_state': 'Succeeded', 'scoring_uri': 'https://regression-02090312349920.eastus.inference.ml.azure.com/score', 'swagger_uri': 'https://regression-02090312349920.eastus.inference.ml.azure.com/swagger.json', 'name': 'regression-02090312349920', 'description': 'this is a sample online endpoint for mlflow model', 'tags': {'foo': 'bar'}, 'properties': {'azureml.onlineendpointid': '/subscriptions/14585b9f-5c83-4a76-8055-42149123f99f/resourcegroups/azureml_rg/providers/microsoft.machinelearningservices/workspaces/azureml_dev_jamg/onlineendpoints/regression-02090312349920', 'AzureAsyncOperationUri': 'https://management.azure.com/subscriptions/14585b9f-5c83-4a76-8055-42149123f99f/providers/Microsoft.MachineLearningServices/locations/eastus/mfeOperationsStatus/oe:607be527-f51c-44df-a376-cb3876e5ac0b:9703dcfc-2d85-4a6a-a3a9-680620282b39?api-version=2022-02-01-preview'}, 'id': '/subscriptions/14585b9f-5c83-4a76-8055-42149123f99f/resourceGroups/azureml_rg/providers/Microsoft.MachineLearningServices/workspaces/azureml_dev_jamg/onlineEndpoints/regression-02090312349920', 'base_path': './', 'creation_context': None, 'serialize': <msrest.serialization.Serializer object at 0x7f8d63f070a0>, 'auth_mode': 'key', 'location': 'eastus', 'identity': <azure.ai.ml._restclient.v2022_02_01_preview.models._models_py3.ManagedServiceIdentity object at 0x7f8d63f06a40>, 'traffic': {'hardware-performance-deploy': 100}, 'mirror_traffic': {}, 'kind': 'Managed'})"
          },
          "metadata": {}
        }
      ],
      "execution_count": 23,
      "metadata": {
        "scrolled": true
      }
    },
    {
      "cell_type": "markdown",
      "source": [
        "### Test the deployment"
      ],
      "metadata": {}
    },
    {
      "cell_type": "code",
      "source": [
        "# test the blue deployment with some sample data\n",
        "import pandas as pd\n",
        "\n",
        "test_data = pd.read_csv(\"./data/training-mltable-folder/training-machine-dataset.csv\")\n",
        "\n",
        "test_data = test_data.drop(\"ERP\", axis=1)\n",
        "\n",
        "test_data_json = test_data.to_json(orient=\"records\", indent=4)\n",
        "data = (\n",
        "    '{ \\\n",
        "          \"input_data\": {\"data\": '\n",
        "    + test_data_json\n",
        "    + \"}}\"\n",
        ")\n",
        "\n",
        "request_file_name = \"sample-request-hardware-performance.json\"\n",
        "\n",
        "with open(request_file_name, \"w\") as request_file:\n",
        "    request_file.write(data)\n",
        "\n",
        "# test the blue deployment with some sample data\n",
        "ml_client.online_endpoints.invoke(\n",
        "    endpoint_name=online_endpoint_name,\n",
        "    deployment_name=\"hardware-performance-deploy\",\n",
        "    request_file=\"sample-request-hardware-performance.json\",\n",
        ")"
      ],
      "outputs": [
        {
          "output_type": "execute_result",
          "execution_count": 24,
          "data": {
            "text/plain": "'[198.99435424804688, 253.0391082763672, 252.9599151611328, 253.0175018310547, 131.99099731445312, 289.96868896484375, 380.9918212890625, 381.06829833984375, 748.9801635742188, 1238.000244140625, 22.97747230529785, 24.01284408569336, 69.98802947998047, 117.01985168457031, 14.991435050964355, 63.99908447265625, 22.99995994567871, 29.000783920288086, 22.00456428527832, 123.99982452392578, 34.98915100097656, 39.04862594604492, 40.00320816040039, 44.99788284301758, 27.99527359008789, 21.00965118408203, 28.039894104003906, 21.998796463012695, 27.985389709472656, 26.968013763427734, 102.00531005859375, 101.98802185058594, 74.0141372680664, 73.98561096191406, 137.97744750976562, 136.01246643066406, 23.004512786865234, 29.030193328857422, 44.00531005859375, 30.02463150024414, 40.920631408691406, 74.0069351196289, 74.00098419189453, 73.96170043945312, 54.094444274902344, 40.90602493286133, 18.004688262939453, 27.978290557861328, 36.00728988647461, 37.99821472167969, 33.985595703125, 19.015520095825195, 71.99163055419922, 36.026611328125, 29.979534149169922, 56.01827621459961, 41.99769592285156, 34.00190353393555, 34.00190353393555, 33.995452880859375, 34.00190353393555, 33.995452880859375, 18.9954776763916, 75.04023742675781, 112.99103546142578, 156.99317932128906, 17.993152618408203, 20.024587631225586, 27.930591583251953, 33.00993728637695, 47.073211669921875, 53.94478225708008, 20.006681442260742, 23.012603759765625, 24.96561050415039, 52.003578186035156, 26.986387252807617, 49.99159622192383, 18.021377563476562, 52.99334716796875, 22.992149353027344, 30.015911102294922, 72.98674774169922, 20.029827117919922, 25.014860153198242, 28.066999435424805, 28.985422134399414, 31.954208374023438, 175.0243377685547, 57.06824493408203, 180.94207763671875, 181.00584411621094, 31.978744506835938, 81.99714660644531, 171.00831604003906, 360.95941162109375, 350.0314636230469, 219.9915008544922, 113.03245544433594, 14.999955177307129, 20.985383987426758, 34.96581268310547, 17.983108520507812, 20.007728576660156, 19.98916244506836, 27.98558807373047, 45.007781982421875, 17.968839645385742, 17.042190551757812, 25.98821449279785, 28.059518814086914, 28.014434814453125, 30.933828353881836, 30.988605499267578, 42.100955963134766, 75.99606323242188, 76.0145034790039, 26.022724151611328, 58.99237060546875, 65.00476837158203, 100.99612426757812, 116.01103973388672, 17.99591827392578, 19.993852615356445, 20.01024627685547, 29.97666358947754, 44.00999069213867, 43.95290756225586, 82.02912139892578, 81.97201538085938, 127.99918365478516, 36.96464157104492, 46.03373336791992, 45.996456146240234, 80.04405212402344, 88.01522064208984, 87.97018432617188, 32.9899787902832, 45.95892333984375, 28.999507904052734, 52.96958541870117, 52.99205780029297, 41.048282623291016, 85.9679183959961, 95.05760192871094, 106.95872497558594, 117.02741241455078, 118.97459411621094, 119.98660278320312, 48.02328872680664, 125.93757629394531, 265.99041748046875, 269.9496765136719, 426.00421142578125, 151.08160400390625, 267.05316162109375, 602.9922485351562, 19.00296974182129, 20.995914459228516, 26.05906105041504, 35.03474807739258, 40.929100036621094, 46.973304748535156, 62.034332275390625, 77.96287536621094, 79.97688293457031, 80.03658294677734, 141.99822998046875, 281.0034484863281, 189.9805450439453, 20.95774269104004, 25.0338077545166, 67.0230484008789, 24.01409149169922, 23.975482940673828, 64.00032043457031, 24.994781494140625, 19.97719383239746, 29.056005477905273, 42.95820236206055, 52.9698600769043, 19.001806259155273, 21.96518898010254, 30.98601531982422, 40.9837646484375, 47.072471618652344, 99.00574493408203, 67.00656127929688, 80.99169921875]'"
          },
          "metadata": {}
        }
      ],
      "execution_count": 24,
      "metadata": {}
    },
    {
      "cell_type": "code",
      "source": [
        "print(data)"
      ],
      "outputs": [
        {
          "output_type": "stream",
          "name": "stdout",
          "text": "{           \"input_data\": {\"data\": [\n    {\n        \"VendorName\":\"adviser\",\n        \"ModelName\":\"32\\/60\",\n        \"MYCT\":125,\n        \"MMIN\":256,\n        \"MMAX\":6000,\n        \"CACH\":256,\n        \"CHMIN\":16,\n        \"CHMAX\":128,\n        \"PRP\":198\n    },\n    {\n        \"VendorName\":\"amdahl\",\n        \"ModelName\":\"470v\\/7\",\n        \"MYCT\":29,\n        \"MMIN\":8000,\n        \"MMAX\":32000,\n        \"CACH\":32,\n        \"CHMIN\":8,\n        \"CHMAX\":32,\n        \"PRP\":269\n    },\n    {\n        \"VendorName\":\"amdahl\",\n        \"ModelName\":\"470v\\/7a\",\n        \"MYCT\":29,\n        \"MMIN\":8000,\n        \"MMAX\":32000,\n        \"CACH\":32,\n        \"CHMIN\":8,\n        \"CHMAX\":32,\n        \"PRP\":220\n    },\n    {\n        \"VendorName\":\"amdahl\",\n        \"ModelName\":\"470v\\/7b\",\n        \"MYCT\":29,\n        \"MMIN\":8000,\n        \"MMAX\":32000,\n        \"CACH\":32,\n        \"CHMIN\":8,\n        \"CHMAX\":32,\n        \"PRP\":172\n    },\n    {\n        \"VendorName\":\"amdahl\",\n        \"ModelName\":\"470v\\/7c\",\n        \"MYCT\":29,\n        \"MMIN\":8000,\n        \"MMAX\":16000,\n        \"CACH\":32,\n        \"CHMIN\":8,\n        \"CHMAX\":16,\n        \"PRP\":132\n    },\n    {\n        \"VendorName\":\"amdahl\",\n        \"ModelName\":\"470v\\/b\",\n        \"MYCT\":26,\n        \"MMIN\":8000,\n        \"MMAX\":32000,\n        \"CACH\":64,\n        \"CHMIN\":8,\n        \"CHMAX\":32,\n        \"PRP\":318\n    },\n    {\n        \"VendorName\":\"amdahl\",\n        \"ModelName\":\"580-5840\",\n        \"MYCT\":23,\n        \"MMIN\":16000,\n        \"MMAX\":32000,\n        \"CACH\":64,\n        \"CHMIN\":16,\n        \"CHMAX\":32,\n        \"PRP\":367\n    },\n    {\n        \"VendorName\":\"amdahl\",\n        \"ModelName\":\"580-5850\",\n        \"MYCT\":23,\n        \"MMIN\":16000,\n        \"MMAX\":32000,\n        \"CACH\":64,\n        \"CHMIN\":16,\n        \"CHMAX\":32,\n        \"PRP\":489\n    },\n    {\n        \"VendorName\":\"amdahl\",\n        \"ModelName\":\"580-5860\",\n        \"MYCT\":23,\n        \"MMIN\":16000,\n        \"MMAX\":64000,\n        \"CACH\":64,\n        \"CHMIN\":16,\n        \"CHMAX\":32,\n        \"PRP\":636\n    },\n    {\n        \"VendorName\":\"amdahl\",\n        \"ModelName\":\"580-5880\",\n        \"MYCT\":23,\n        \"MMIN\":32000,\n        \"MMAX\":64000,\n        \"CACH\":128,\n        \"CHMIN\":32,\n        \"CHMAX\":64,\n        \"PRP\":1144\n    },\n    {\n        \"VendorName\":\"apollo\",\n        \"ModelName\":\"dn320\",\n        \"MYCT\":400,\n        \"MMIN\":1000,\n        \"MMAX\":3000,\n        \"CACH\":0,\n        \"CHMIN\":1,\n        \"CHMAX\":2,\n        \"PRP\":38\n    },\n    {\n        \"VendorName\":\"apollo\",\n        \"ModelName\":\"dn420\",\n        \"MYCT\":400,\n        \"MMIN\":512,\n        \"MMAX\":3500,\n        \"CACH\":4,\n        \"CHMIN\":1,\n        \"CHMAX\":6,\n        \"PRP\":40\n    },\n    {\n        \"VendorName\":\"basf\",\n        \"ModelName\":\"Jul-65\",\n        \"MYCT\":60,\n        \"MMIN\":2000,\n        \"MMAX\":8000,\n        \"CACH\":65,\n        \"CHMIN\":1,\n        \"CHMAX\":8,\n        \"PRP\":92\n    },\n    {\n        \"VendorName\":\"basf\",\n        \"ModelName\":\"Jul-68\",\n        \"MYCT\":50,\n        \"MMIN\":4000,\n        \"MMAX\":16000,\n        \"CACH\":65,\n        \"CHMIN\":1,\n        \"CHMAX\":8,\n        \"PRP\":138\n    },\n    {\n        \"VendorName\":\"bti\",\n        \"ModelName\":\"5000\",\n        \"MYCT\":350,\n        \"MMIN\":64,\n        \"MMAX\":64,\n        \"CACH\":0,\n        \"CHMIN\":1,\n        \"CHMAX\":4,\n        \"PRP\":10\n    },\n    {\n        \"VendorName\":\"bti\",\n        \"ModelName\":\"8000\",\n        \"MYCT\":200,\n        \"MMIN\":512,\n        \"MMAX\":16000,\n        \"CACH\":0,\n        \"CHMIN\":4,\n        \"CHMAX\":32,\n        \"PRP\":35\n    },\n    {\n        \"VendorName\":\"burroughs\",\n        \"ModelName\":\"b1955\",\n        \"MYCT\":167,\n        \"MMIN\":524,\n        \"MMAX\":2000,\n        \"CACH\":8,\n        \"CHMIN\":4,\n        \"CHMAX\":15,\n        \"PRP\":19\n    },\n    {\n        \"VendorName\":\"burroughs\",\n        \"ModelName\":\"b2900\",\n        \"MYCT\":143,\n        \"MMIN\":512,\n        \"MMAX\":5000,\n        \"CACH\":0,\n        \"CHMIN\":7,\n        \"CHMAX\":32,\n        \"PRP\":28\n    },\n    {\n        \"VendorName\":\"burroughs\",\n        \"ModelName\":\"b2925\",\n        \"MYCT\":143,\n        \"MMIN\":1000,\n        \"MMAX\":2000,\n        \"CACH\":0,\n        \"CHMIN\":5,\n        \"CHMAX\":16,\n        \"PRP\":31\n    },\n    {\n        \"VendorName\":\"burroughs\",\n        \"ModelName\":\"b4955\",\n        \"MYCT\":110,\n        \"MMIN\":5000,\n        \"MMAX\":5000,\n        \"CACH\":142,\n        \"CHMIN\":8,\n        \"CHMAX\":64,\n        \"PRP\":120\n    },\n    {\n        \"VendorName\":\"burroughs\",\n        \"ModelName\":\"b5900\",\n        \"MYCT\":143,\n        \"MMIN\":1500,\n        \"MMAX\":6300,\n        \"CACH\":0,\n        \"CHMIN\":5,\n        \"CHMAX\":32,\n        \"PRP\":30\n    },\n    {\n        \"VendorName\":\"burroughs\",\n        \"ModelName\":\"b5920\",\n        \"MYCT\":143,\n        \"MMIN\":3100,\n        \"MMAX\":6200,\n        \"CACH\":0,\n        \"CHMIN\":5,\n        \"CHMAX\":20,\n        \"PRP\":33\n    },\n    {\n        \"VendorName\":\"burroughs\",\n        \"ModelName\":\"b6900\",\n        \"MYCT\":143,\n        \"MMIN\":2300,\n        \"MMAX\":6200,\n        \"CACH\":0,\n        \"CHMIN\":6,\n        \"CHMAX\":64,\n        \"PRP\":61\n    },\n    {\n        \"VendorName\":\"burroughs\",\n        \"ModelName\":\"b6925\",\n        \"MYCT\":110,\n        \"MMIN\":3100,\n        \"MMAX\":6200,\n        \"CACH\":0,\n        \"CHMIN\":6,\n        \"CHMAX\":64,\n        \"PRP\":76\n    },\n    {\n        \"VendorName\":\"c.r.d\",\n        \"ModelName\":\"68\\/10-80\",\n        \"MYCT\":320,\n        \"MMIN\":128,\n        \"MMAX\":6000,\n        \"CACH\":0,\n        \"CHMIN\":1,\n        \"CHMAX\":12,\n        \"PRP\":23\n    },\n    {\n        \"VendorName\":\"c.r.d\",\n        \"ModelName\":\"universe:2203t\",\n        \"MYCT\":320,\n        \"MMIN\":512,\n        \"MMAX\":2000,\n        \"CACH\":4,\n        \"CHMIN\":1,\n        \"CHMAX\":3,\n        \"PRP\":69\n    },\n    {\n        \"VendorName\":\"c.r.d\",\n        \"ModelName\":\"universe:68\",\n        \"MYCT\":320,\n        \"MMIN\":256,\n        \"MMAX\":6000,\n        \"CACH\":0,\n        \"CHMIN\":1,\n        \"CHMAX\":6,\n        \"PRP\":33\n    },\n    {\n        \"VendorName\":\"c.r.d\",\n        \"ModelName\":\"universe:68\\/05\",\n        \"MYCT\":320,\n        \"MMIN\":256,\n        \"MMAX\":3000,\n        \"CACH\":4,\n        \"CHMIN\":1,\n        \"CHMAX\":3,\n        \"PRP\":27\n    },\n    {\n        \"VendorName\":\"c.r.d\",\n        \"ModelName\":\"universe:68\\/137\",\n        \"MYCT\":320,\n        \"MMIN\":512,\n        \"MMAX\":5000,\n        \"CACH\":4,\n        \"CHMIN\":1,\n        \"CHMAX\":5,\n        \"PRP\":77\n    },\n    {\n        \"VendorName\":\"c.r.d\",\n        \"ModelName\":\"universe:68\\/37\",\n        \"MYCT\":320,\n        \"MMIN\":256,\n        \"MMAX\":5000,\n        \"CACH\":4,\n        \"CHMIN\":1,\n        \"CHMAX\":6,\n        \"PRP\":27\n    },\n    {\n        \"VendorName\":\"cdc\",\n        \"ModelName\":\"cyber:170\\/750\",\n        \"MYCT\":25,\n        \"MMIN\":1310,\n        \"MMAX\":2620,\n        \"CACH\":131,\n        \"CHMIN\":12,\n        \"CHMAX\":24,\n        \"PRP\":274\n    },\n    {\n        \"VendorName\":\"cdc\",\n        \"ModelName\":\"cyber:170\\/760\",\n        \"MYCT\":25,\n        \"MMIN\":1310,\n        \"MMAX\":2620,\n        \"CACH\":131,\n        \"CHMIN\":12,\n        \"CHMAX\":24,\n        \"PRP\":368\n    },\n    {\n        \"VendorName\":\"cdc\",\n        \"ModelName\":\"cyber:170\\/815\",\n        \"MYCT\":50,\n        \"MMIN\":2620,\n        \"MMAX\":10480,\n        \"CACH\":30,\n        \"CHMIN\":12,\n        \"CHMAX\":24,\n        \"PRP\":32\n    },\n    {\n        \"VendorName\":\"cdc\",\n        \"ModelName\":\"cyber:170\\/825\",\n        \"MYCT\":50,\n        \"MMIN\":2620,\n        \"MMAX\":10480,\n        \"CACH\":30,\n        \"CHMIN\":12,\n        \"CHMAX\":24,\n        \"PRP\":63\n    },\n    {\n        \"VendorName\":\"cdc\",\n        \"ModelName\":\"cyber:170\\/835\",\n        \"MYCT\":56,\n        \"MMIN\":5240,\n        \"MMAX\":20970,\n        \"CACH\":30,\n        \"CHMIN\":12,\n        \"CHMAX\":24,\n        \"PRP\":106\n    },\n    {\n        \"VendorName\":\"cdc\",\n        \"ModelName\":\"cyber:170\\/845\",\n        \"MYCT\":64,\n        \"MMIN\":5240,\n        \"MMAX\":20970,\n        \"CACH\":30,\n        \"CHMIN\":12,\n        \"CHMAX\":24,\n        \"PRP\":208\n    },\n    {\n        \"VendorName\":\"cdc\",\n        \"ModelName\":\"omega:480-i\",\n        \"MYCT\":50,\n        \"MMIN\":500,\n        \"MMAX\":2000,\n        \"CACH\":8,\n        \"CHMIN\":1,\n        \"CHMAX\":4,\n        \"PRP\":20\n    },\n    {\n        \"VendorName\":\"cdc\",\n        \"ModelName\":\"omega:480-ii\",\n        \"MYCT\":50,\n        \"MMIN\":1000,\n        \"MMAX\":4000,\n        \"CACH\":8,\n        \"CHMIN\":1,\n        \"CHMAX\":5,\n        \"PRP\":29\n    },\n    {\n        \"VendorName\":\"cdc\",\n        \"ModelName\":\"omega:480-iii\",\n        \"MYCT\":50,\n        \"MMIN\":2000,\n        \"MMAX\":8000,\n        \"CACH\":8,\n        \"CHMIN\":1,\n        \"CHMAX\":5,\n        \"PRP\":71\n    },\n    {\n        \"VendorName\":\"cambex\",\n        \"ModelName\":\"1636-1\",\n        \"MYCT\":50,\n        \"MMIN\":1000,\n        \"MMAX\":4000,\n        \"CACH\":8,\n        \"CHMIN\":3,\n        \"CHMAX\":5,\n        \"PRP\":26\n    },\n    {\n        \"VendorName\":\"cambex\",\n        \"ModelName\":\"1636-10\",\n        \"MYCT\":50,\n        \"MMIN\":1000,\n        \"MMAX\":8000,\n        \"CACH\":8,\n        \"CHMIN\":3,\n        \"CHMAX\":5,\n        \"PRP\":36\n    },\n    {\n        \"VendorName\":\"cambex\",\n        \"ModelName\":\"1641-1\",\n        \"MYCT\":50,\n        \"MMIN\":2000,\n        \"MMAX\":16000,\n        \"CACH\":8,\n        \"CHMIN\":3,\n        \"CHMAX\":5,\n        \"PRP\":40\n    },\n    {\n        \"VendorName\":\"cambex\",\n        \"ModelName\":\"1641-11\",\n        \"MYCT\":50,\n        \"MMIN\":2000,\n        \"MMAX\":16000,\n        \"CACH\":8,\n        \"CHMIN\":3,\n        \"CHMAX\":6,\n        \"PRP\":52\n    },\n    {\n        \"VendorName\":\"cambex\",\n        \"ModelName\":\"1651-1\",\n        \"MYCT\":50,\n        \"MMIN\":2000,\n        \"MMAX\":16000,\n        \"CACH\":8,\n        \"CHMIN\":3,\n        \"CHMAX\":6,\n        \"PRP\":60\n    },\n    {\n        \"VendorName\":\"dec\",\n        \"ModelName\":\"decsys:10:1091\",\n        \"MYCT\":133,\n        \"MMIN\":1000,\n        \"MMAX\":12000,\n        \"CACH\":9,\n        \"CHMIN\":3,\n        \"CHMAX\":12,\n        \"PRP\":72\n    },\n    {\n        \"VendorName\":\"dec\",\n        \"ModelName\":\"decsys:20:2060\",\n        \"MYCT\":133,\n        \"MMIN\":1000,\n        \"MMAX\":8000,\n        \"CACH\":9,\n        \"CHMIN\":3,\n        \"CHMAX\":12,\n        \"PRP\":72\n    },\n    {\n        \"VendorName\":\"dec\",\n        \"ModelName\":\"microvax-1\",\n        \"MYCT\":810,\n        \"MMIN\":512,\n        \"MMAX\":512,\n        \"CACH\":8,\n        \"CHMIN\":1,\n        \"CHMAX\":1,\n        \"PRP\":18\n    },\n    {\n        \"VendorName\":\"dec\",\n        \"ModelName\":\"vax:11\\/730\",\n        \"MYCT\":810,\n        \"MMIN\":1000,\n        \"MMAX\":5000,\n        \"CACH\":0,\n        \"CHMIN\":1,\n        \"CHMAX\":1,\n        \"PRP\":20\n    },\n    {\n        \"VendorName\":\"dec\",\n        \"ModelName\":\"vax:11\\/750\",\n        \"MYCT\":320,\n        \"MMIN\":512,\n        \"MMAX\":8000,\n        \"CACH\":4,\n        \"CHMIN\":1,\n        \"CHMAX\":5,\n        \"PRP\":40\n    },\n    {\n        \"VendorName\":\"dec\",\n        \"ModelName\":\"vax:11\\/780\",\n        \"MYCT\":200,\n        \"MMIN\":512,\n        \"MMAX\":8000,\n        \"CACH\":8,\n        \"CHMIN\":1,\n        \"CHMAX\":8,\n        \"PRP\":62\n    },\n    {\n        \"VendorName\":\"dg\",\n        \"ModelName\":\"eclipse:c\\/350\",\n        \"MYCT\":700,\n        \"MMIN\":384,\n        \"MMAX\":8000,\n        \"CACH\":0,\n        \"CHMIN\":1,\n        \"CHMAX\":1,\n        \"PRP\":24\n    },\n    {\n        \"VendorName\":\"dg\",\n        \"ModelName\":\"eclipse:m\\/600\",\n        \"MYCT\":700,\n        \"MMIN\":256,\n        \"MMAX\":2000,\n        \"CACH\":0,\n        \"CHMIN\":1,\n        \"CHMAX\":1,\n        \"PRP\":24\n    },\n    {\n        \"VendorName\":\"dg\",\n        \"ModelName\":\"eclipse:mv\\/10000\",\n        \"MYCT\":140,\n        \"MMIN\":1000,\n        \"MMAX\":16000,\n        \"CACH\":16,\n        \"CHMIN\":1,\n        \"CHMAX\":3,\n        \"PRP\":138\n    },\n    {\n        \"VendorName\":\"dg\",\n        \"ModelName\":\"eclipse:mv\\/4000\",\n        \"MYCT\":200,\n        \"MMIN\":1000,\n        \"MMAX\":8000,\n        \"CACH\":0,\n        \"CHMIN\":1,\n        \"CHMAX\":2,\n        \"PRP\":36\n    },\n    {\n        \"VendorName\":\"dg\",\n        \"ModelName\":\"eclipse:mv\\/6000\",\n        \"MYCT\":110,\n        \"MMIN\":1000,\n        \"MMAX\":4000,\n        \"CACH\":16,\n        \"CHMIN\":1,\n        \"CHMAX\":2,\n        \"PRP\":26\n    },\n    {\n        \"VendorName\":\"dg\",\n        \"ModelName\":\"eclipse:mv\\/8000\",\n        \"MYCT\":110,\n        \"MMIN\":1000,\n        \"MMAX\":12000,\n        \"CACH\":16,\n        \"CHMIN\":1,\n        \"CHMAX\":2,\n        \"PRP\":60\n    },\n    {\n        \"VendorName\":\"dg\",\n        \"ModelName\":\"eclipse:mv\\/8000-ii\",\n        \"MYCT\":220,\n        \"MMIN\":1000,\n        \"MMAX\":8000,\n        \"CACH\":16,\n        \"CHMIN\":1,\n        \"CHMAX\":2,\n        \"PRP\":71\n    },\n    {\n        \"VendorName\":\"formation\",\n        \"ModelName\":\"f4000\\/100\",\n        \"MYCT\":800,\n        \"MMIN\":256,\n        \"MMAX\":8000,\n        \"CACH\":0,\n        \"CHMIN\":1,\n        \"CHMAX\":4,\n        \"PRP\":12\n    },\n    {\n        \"VendorName\":\"formation\",\n        \"ModelName\":\"f4000\\/200\",\n        \"MYCT\":800,\n        \"MMIN\":256,\n        \"MMAX\":8000,\n        \"CACH\":0,\n        \"CHMIN\":1,\n        \"CHMAX\":4,\n        \"PRP\":14\n    },\n    {\n        \"VendorName\":\"formation\",\n        \"ModelName\":\"f4000\\/200ap\",\n        \"MYCT\":800,\n        \"MMIN\":256,\n        \"MMAX\":8000,\n        \"CACH\":0,\n        \"CHMIN\":1,\n        \"CHMAX\":4,\n        \"PRP\":20\n    },\n    {\n        \"VendorName\":\"formation\",\n        \"ModelName\":\"f4000\\/300\",\n        \"MYCT\":800,\n        \"MMIN\":256,\n        \"MMAX\":8000,\n        \"CACH\":0,\n        \"CHMIN\":1,\n        \"CHMAX\":4,\n        \"PRP\":16\n    },\n    {\n        \"VendorName\":\"formation\",\n        \"ModelName\":\"f4000\\/300ap\",\n        \"MYCT\":800,\n        \"MMIN\":256,\n        \"MMAX\":8000,\n        \"CACH\":0,\n        \"CHMIN\":1,\n        \"CHMAX\":4,\n        \"PRP\":22\n    },\n    {\n        \"VendorName\":\"four-phase\",\n        \"ModelName\":\"2000\\/260\",\n        \"MYCT\":125,\n        \"MMIN\":512,\n        \"MMAX\":1000,\n        \"CACH\":0,\n        \"CHMIN\":8,\n        \"CHMAX\":20,\n        \"PRP\":36\n    },\n    {\n        \"VendorName\":\"gould\",\n        \"ModelName\":\"concept:32\\/8705\",\n        \"MYCT\":75,\n        \"MMIN\":2000,\n        \"MMAX\":8000,\n        \"CACH\":64,\n        \"CHMIN\":1,\n        \"CHMAX\":38,\n        \"PRP\":144\n    },\n    {\n        \"VendorName\":\"gould\",\n        \"ModelName\":\"concept:32\\/8750\",\n        \"MYCT\":75,\n        \"MMIN\":2000,\n        \"MMAX\":16000,\n        \"CACH\":64,\n        \"CHMIN\":1,\n        \"CHMAX\":38,\n        \"PRP\":144\n    },\n    {\n        \"VendorName\":\"gould\",\n        \"ModelName\":\"concept:32\\/8780\",\n        \"MYCT\":75,\n        \"MMIN\":2000,\n        \"MMAX\":16000,\n        \"CACH\":128,\n        \"CHMIN\":1,\n        \"CHMAX\":38,\n        \"PRP\":259\n    },\n    {\n        \"VendorName\":\"hp\",\n        \"ModelName\":\"3000\\/30\",\n        \"MYCT\":90,\n        \"MMIN\":256,\n        \"MMAX\":1000,\n        \"CACH\":0,\n        \"CHMIN\":3,\n        \"CHMAX\":10,\n        \"PRP\":17\n    },\n    {\n        \"VendorName\":\"hp\",\n        \"ModelName\":\"3000\\/40\",\n        \"MYCT\":105,\n        \"MMIN\":256,\n        \"MMAX\":2000,\n        \"CACH\":0,\n        \"CHMIN\":3,\n        \"CHMAX\":10,\n        \"PRP\":26\n    },\n    {\n        \"VendorName\":\"hp\",\n        \"ModelName\":\"3000\\/44\",\n        \"MYCT\":105,\n        \"MMIN\":1000,\n        \"MMAX\":4000,\n        \"CACH\":0,\n        \"CHMIN\":3,\n        \"CHMAX\":24,\n        \"PRP\":32\n    },\n    {\n        \"VendorName\":\"hp\",\n        \"ModelName\":\"3000\\/48\",\n        \"MYCT\":105,\n        \"MMIN\":2000,\n        \"MMAX\":4000,\n        \"CACH\":8,\n        \"CHMIN\":3,\n        \"CHMAX\":19,\n        \"PRP\":32\n    },\n    {\n        \"VendorName\":\"hp\",\n        \"ModelName\":\"3000\\/64\",\n        \"MYCT\":75,\n        \"MMIN\":2000,\n        \"MMAX\":8000,\n        \"CACH\":8,\n        \"CHMIN\":3,\n        \"CHMAX\":24,\n        \"PRP\":62\n    },\n    {\n        \"VendorName\":\"hp\",\n        \"ModelName\":\"3000\\/88\",\n        \"MYCT\":75,\n        \"MMIN\":3000,\n        \"MMAX\":8000,\n        \"CACH\":8,\n        \"CHMIN\":3,\n        \"CHMAX\":48,\n        \"PRP\":64\n    },\n    {\n        \"VendorName\":\"hp\",\n        \"ModelName\":\"3000\\/iii\",\n        \"MYCT\":175,\n        \"MMIN\":256,\n        \"MMAX\":2000,\n        \"CACH\":0,\n        \"CHMIN\":3,\n        \"CHMAX\":24,\n        \"PRP\":22\n    },\n    {\n        \"VendorName\":\"harris\",\n        \"ModelName\":\"100\",\n        \"MYCT\":300,\n        \"MMIN\":768,\n        \"MMAX\":3000,\n        \"CACH\":0,\n        \"CHMIN\":6,\n        \"CHMAX\":24,\n        \"PRP\":36\n    },\n    {\n        \"VendorName\":\"harris\",\n        \"ModelName\":\"300\",\n        \"MYCT\":300,\n        \"MMIN\":768,\n        \"MMAX\":3000,\n        \"CACH\":6,\n        \"CHMIN\":6,\n        \"CHMAX\":24,\n        \"PRP\":44\n    },\n    {\n        \"VendorName\":\"harris\",\n        \"ModelName\":\"500\",\n        \"MYCT\":300,\n        \"MMIN\":768,\n        \"MMAX\":12000,\n        \"CACH\":6,\n        \"CHMIN\":6,\n        \"CHMAX\":24,\n        \"PRP\":50\n    },\n    {\n        \"VendorName\":\"harris\",\n        \"ModelName\":\"600\",\n        \"MYCT\":300,\n        \"MMIN\":768,\n        \"MMAX\":4500,\n        \"CACH\":0,\n        \"CHMIN\":1,\n        \"CHMAX\":24,\n        \"PRP\":45\n    },\n    {\n        \"VendorName\":\"harris\",\n        \"ModelName\":\"700\",\n        \"MYCT\":300,\n        \"MMIN\":384,\n        \"MMAX\":12000,\n        \"CACH\":6,\n        \"CHMIN\":1,\n        \"CHMAX\":24,\n        \"PRP\":53\n    },\n    {\n        \"VendorName\":\"harris\",\n        \"ModelName\":\"80\",\n        \"MYCT\":300,\n        \"MMIN\":192,\n        \"MMAX\":768,\n        \"CACH\":6,\n        \"CHMIN\":6,\n        \"CHMAX\":24,\n        \"PRP\":36\n    },\n    {\n        \"VendorName\":\"harris\",\n        \"ModelName\":\"800\",\n        \"MYCT\":180,\n        \"MMIN\":768,\n        \"MMAX\":12000,\n        \"CACH\":6,\n        \"CHMIN\":1,\n        \"CHMAX\":31,\n        \"PRP\":84\n    },\n    {\n        \"VendorName\":\"honeywell\",\n        \"ModelName\":\"dps:6\\/35\",\n        \"MYCT\":330,\n        \"MMIN\":1000,\n        \"MMAX\":3000,\n        \"CACH\":0,\n        \"CHMIN\":2,\n        \"CHMAX\":4,\n        \"PRP\":16\n    },\n    {\n        \"VendorName\":\"honeywell\",\n        \"ModelName\":\"dps:6\\/92\",\n        \"MYCT\":300,\n        \"MMIN\":1000,\n        \"MMAX\":4000,\n        \"CACH\":8,\n        \"CHMIN\":3,\n        \"CHMAX\":64,\n        \"PRP\":38\n    },\n    {\n        \"VendorName\":\"honeywell\",\n        \"ModelName\":\"dps:6\\/96\",\n        \"MYCT\":300,\n        \"MMIN\":1000,\n        \"MMAX\":16000,\n        \"CACH\":8,\n        \"CHMIN\":2,\n        \"CHMAX\":112,\n        \"PRP\":38\n    },\n    {\n        \"VendorName\":\"honeywell\",\n        \"ModelName\":\"dps:7\\/35\",\n        \"MYCT\":330,\n        \"MMIN\":1000,\n        \"MMAX\":2000,\n        \"CACH\":0,\n        \"CHMIN\":1,\n        \"CHMAX\":2,\n        \"PRP\":16\n    },\n    {\n        \"VendorName\":\"honeywell\",\n        \"ModelName\":\"dps:7\\/45\",\n        \"MYCT\":330,\n        \"MMIN\":1000,\n        \"MMAX\":4000,\n        \"CACH\":0,\n        \"CHMIN\":3,\n        \"CHMAX\":6,\n        \"PRP\":22\n    },\n    {\n        \"VendorName\":\"honeywell\",\n        \"ModelName\":\"dps:7\\/55\",\n        \"MYCT\":140,\n        \"MMIN\":2000,\n        \"MMAX\":4000,\n        \"CACH\":0,\n        \"CHMIN\":3,\n        \"CHMAX\":6,\n        \"PRP\":29\n    },\n    {\n        \"VendorName\":\"honeywell\",\n        \"ModelName\":\"dps:7\\/65\",\n        \"MYCT\":140,\n        \"MMIN\":2000,\n        \"MMAX\":4000,\n        \"CACH\":0,\n        \"CHMIN\":4,\n        \"CHMAX\":8,\n        \"PRP\":40\n    },\n    {\n        \"VendorName\":\"honeywell\",\n        \"ModelName\":\"dps:8\\/44\",\n        \"MYCT\":140,\n        \"MMIN\":2000,\n        \"MMAX\":4000,\n        \"CACH\":8,\n        \"CHMIN\":1,\n        \"CHMAX\":20,\n        \"PRP\":35\n    },\n    {\n        \"VendorName\":\"honeywell\",\n        \"ModelName\":\"dps:8\\/49\",\n        \"MYCT\":140,\n        \"MMIN\":2000,\n        \"MMAX\":32000,\n        \"CACH\":32,\n        \"CHMIN\":1,\n        \"CHMAX\":20,\n        \"PRP\":134\n    },\n    {\n        \"VendorName\":\"honeywell\",\n        \"ModelName\":\"dps:8\\/50\",\n        \"MYCT\":140,\n        \"MMIN\":2000,\n        \"MMAX\":8000,\n        \"CACH\":32,\n        \"CHMIN\":1,\n        \"CHMAX\":54,\n        \"PRP\":66\n    },\n    {\n        \"VendorName\":\"honeywell\",\n        \"ModelName\":\"dps:8\\/52\",\n        \"MYCT\":140,\n        \"MMIN\":2000,\n        \"MMAX\":32000,\n        \"CACH\":32,\n        \"CHMIN\":1,\n        \"CHMAX\":54,\n        \"PRP\":141\n    },\n    {\n        \"VendorName\":\"honeywell\",\n        \"ModelName\":\"dps:8\\/62\",\n        \"MYCT\":140,\n        \"MMIN\":2000,\n        \"MMAX\":32000,\n        \"CACH\":32,\n        \"CHMIN\":1,\n        \"CHMAX\":54,\n        \"PRP\":189\n    },\n    {\n        \"VendorName\":\"honeywell\",\n        \"ModelName\":\"dps:8\\/20\",\n        \"MYCT\":140,\n        \"MMIN\":2000,\n        \"MMAX\":4000,\n        \"CACH\":8,\n        \"CHMIN\":1,\n        \"CHMAX\":20,\n        \"PRP\":22\n    },\n    {\n        \"VendorName\":\"ibm\",\n        \"ModelName\":\"3033:s\",\n        \"MYCT\":57,\n        \"MMIN\":4000,\n        \"MMAX\":16000,\n        \"CACH\":1,\n        \"CHMIN\":6,\n        \"CHMAX\":12,\n        \"PRP\":132\n    },\n    {\n        \"VendorName\":\"ibm\",\n        \"ModelName\":\"3033:u\",\n        \"MYCT\":57,\n        \"MMIN\":4000,\n        \"MMAX\":24000,\n        \"CACH\":64,\n        \"CHMIN\":12,\n        \"CHMAX\":16,\n        \"PRP\":237\n    },\n    {\n        \"VendorName\":\"ibm\",\n        \"ModelName\":\"3081\",\n        \"MYCT\":26,\n        \"MMIN\":16000,\n        \"MMAX\":32000,\n        \"CACH\":64,\n        \"CHMIN\":16,\n        \"CHMAX\":24,\n        \"PRP\":465\n    },\n    {\n        \"VendorName\":\"ibm\",\n        \"ModelName\":\"3081:d\",\n        \"MYCT\":26,\n        \"MMIN\":16000,\n        \"MMAX\":32000,\n        \"CACH\":64,\n        \"CHMIN\":8,\n        \"CHMAX\":24,\n        \"PRP\":465\n    },\n    {\n        \"VendorName\":\"ibm\",\n        \"ModelName\":\"3083:b\",\n        \"MYCT\":26,\n        \"MMIN\":8000,\n        \"MMAX\":32000,\n        \"CACH\":0,\n        \"CHMIN\":8,\n        \"CHMAX\":24,\n        \"PRP\":277\n    },\n    {\n        \"VendorName\":\"ibm\",\n        \"ModelName\":\"3083:e\",\n        \"MYCT\":26,\n        \"MMIN\":8000,\n        \"MMAX\":16000,\n        \"CACH\":0,\n        \"CHMIN\":8,\n        \"CHMAX\":16,\n        \"PRP\":185\n    },\n    {\n        \"VendorName\":\"ibm\",\n        \"ModelName\":\"370\\/125-2\",\n        \"MYCT\":480,\n        \"MMIN\":96,\n        \"MMAX\":512,\n        \"CACH\":0,\n        \"CHMIN\":1,\n        \"CHMAX\":1,\n        \"PRP\":6\n    },\n    {\n        \"VendorName\":\"ibm\",\n        \"ModelName\":\"370\\/148\",\n        \"MYCT\":203,\n        \"MMIN\":1000,\n        \"MMAX\":2000,\n        \"CACH\":0,\n        \"CHMIN\":1,\n        \"CHMAX\":5,\n        \"PRP\":24\n    },\n    {\n        \"VendorName\":\"ibm\",\n        \"ModelName\":\"370\\/158-3\",\n        \"MYCT\":115,\n        \"MMIN\":512,\n        \"MMAX\":6000,\n        \"CACH\":16,\n        \"CHMIN\":1,\n        \"CHMAX\":6,\n        \"PRP\":45\n    },\n    {\n        \"VendorName\":\"ibm\",\n        \"ModelName\":\"38\\/3\",\n        \"MYCT\":1100,\n        \"MMIN\":512,\n        \"MMAX\":1500,\n        \"CACH\":0,\n        \"CHMIN\":1,\n        \"CHMAX\":1,\n        \"PRP\":7\n    },\n    {\n        \"VendorName\":\"ibm\",\n        \"ModelName\":\"38\\/4\",\n        \"MYCT\":1100,\n        \"MMIN\":768,\n        \"MMAX\":2000,\n        \"CACH\":0,\n        \"CHMIN\":1,\n        \"CHMAX\":1,\n        \"PRP\":13\n    },\n    {\n        \"VendorName\":\"ibm\",\n        \"ModelName\":\"38\\/5\",\n        \"MYCT\":600,\n        \"MMIN\":768,\n        \"MMAX\":2000,\n        \"CACH\":0,\n        \"CHMIN\":1,\n        \"CHMAX\":1,\n        \"PRP\":16\n    },\n    {\n        \"VendorName\":\"ibm\",\n        \"ModelName\":\"38\\/7\",\n        \"MYCT\":400,\n        \"MMIN\":2000,\n        \"MMAX\":4000,\n        \"CACH\":0,\n        \"CHMIN\":1,\n        \"CHMAX\":1,\n        \"PRP\":32\n    },\n    {\n        \"VendorName\":\"ibm\",\n        \"ModelName\":\"38\\/8\",\n        \"MYCT\":400,\n        \"MMIN\":4000,\n        \"MMAX\":8000,\n        \"CACH\":0,\n        \"CHMIN\":1,\n        \"CHMAX\":1,\n        \"PRP\":32\n    },\n    {\n        \"VendorName\":\"ibm\",\n        \"ModelName\":\"4321\",\n        \"MYCT\":900,\n        \"MMIN\":1000,\n        \"MMAX\":1000,\n        \"CACH\":0,\n        \"CHMIN\":1,\n        \"CHMAX\":2,\n        \"PRP\":11\n    },\n    {\n        \"VendorName\":\"ibm\",\n        \"ModelName\":\"4331-1\",\n        \"MYCT\":900,\n        \"MMIN\":512,\n        \"MMAX\":1000,\n        \"CACH\":0,\n        \"CHMIN\":1,\n        \"CHMAX\":2,\n        \"PRP\":11\n    },\n    {\n        \"VendorName\":\"ibm\",\n        \"ModelName\":\"4331-11\",\n        \"MYCT\":900,\n        \"MMIN\":1000,\n        \"MMAX\":4000,\n        \"CACH\":4,\n        \"CHMIN\":1,\n        \"CHMAX\":2,\n        \"PRP\":18\n    },\n    {\n        \"VendorName\":\"ibm\",\n        \"ModelName\":\"4331-2\",\n        \"MYCT\":900,\n        \"MMIN\":1000,\n        \"MMAX\":4000,\n        \"CACH\":8,\n        \"CHMIN\":1,\n        \"CHMAX\":2,\n        \"PRP\":22\n    },\n    {\n        \"VendorName\":\"ibm\",\n        \"ModelName\":\"4341\",\n        \"MYCT\":900,\n        \"MMIN\":2000,\n        \"MMAX\":4000,\n        \"CACH\":0,\n        \"CHMIN\":3,\n        \"CHMAX\":6,\n        \"PRP\":37\n    },\n    {\n        \"VendorName\":\"ibm\",\n        \"ModelName\":\"4341-1\",\n        \"MYCT\":225,\n        \"MMIN\":2000,\n        \"MMAX\":4000,\n        \"CACH\":8,\n        \"CHMIN\":3,\n        \"CHMAX\":6,\n        \"PRP\":40\n    },\n    {\n        \"VendorName\":\"ibm\",\n        \"ModelName\":\"4341-10\",\n        \"MYCT\":225,\n        \"MMIN\":2000,\n        \"MMAX\":4000,\n        \"CACH\":8,\n        \"CHMIN\":3,\n        \"CHMAX\":6,\n        \"PRP\":34\n    },\n    {\n        \"VendorName\":\"ibm\",\n        \"ModelName\":\"4341-11\",\n        \"MYCT\":180,\n        \"MMIN\":2000,\n        \"MMAX\":8000,\n        \"CACH\":8,\n        \"CHMIN\":1,\n        \"CHMAX\":6,\n        \"PRP\":50\n    },\n    {\n        \"VendorName\":\"ibm\",\n        \"ModelName\":\"4341-12\",\n        \"MYCT\":185,\n        \"MMIN\":2000,\n        \"MMAX\":16000,\n        \"CACH\":16,\n        \"CHMIN\":1,\n        \"CHMAX\":6,\n        \"PRP\":76\n    },\n    {\n        \"VendorName\":\"ibm\",\n        \"ModelName\":\"4341-2\",\n        \"MYCT\":180,\n        \"MMIN\":2000,\n        \"MMAX\":16000,\n        \"CACH\":16,\n        \"CHMIN\":1,\n        \"CHMAX\":6,\n        \"PRP\":66\n    },\n    {\n        \"VendorName\":\"ibm\",\n        \"ModelName\":\"4341-9\",\n        \"MYCT\":225,\n        \"MMIN\":1000,\n        \"MMAX\":4000,\n        \"CACH\":2,\n        \"CHMIN\":3,\n        \"CHMAX\":6,\n        \"PRP\":24\n    },\n    {\n        \"VendorName\":\"ibm\",\n        \"ModelName\":\"4361-4\",\n        \"MYCT\":25,\n        \"MMIN\":2000,\n        \"MMAX\":12000,\n        \"CACH\":8,\n        \"CHMIN\":1,\n        \"CHMAX\":4,\n        \"PRP\":49\n    },\n    {\n        \"VendorName\":\"ibm\",\n        \"ModelName\":\"4361-5\",\n        \"MYCT\":25,\n        \"MMIN\":2000,\n        \"MMAX\":12000,\n        \"CACH\":16,\n        \"CHMIN\":3,\n        \"CHMAX\":5,\n        \"PRP\":66\n    },\n    {\n        \"VendorName\":\"ibm\",\n        \"ModelName\":\"4381-1\",\n        \"MYCT\":17,\n        \"MMIN\":4000,\n        \"MMAX\":16000,\n        \"CACH\":8,\n        \"CHMIN\":6,\n        \"CHMAX\":12,\n        \"PRP\":100\n    },\n    {\n        \"VendorName\":\"ibm\",\n        \"ModelName\":\"4381-2\",\n        \"MYCT\":17,\n        \"MMIN\":4000,\n        \"MMAX\":16000,\n        \"CACH\":32,\n        \"CHMIN\":6,\n        \"CHMAX\":12,\n        \"PRP\":133\n    },\n    {\n        \"VendorName\":\"ibm\",\n        \"ModelName\":\"8130-a\",\n        \"MYCT\":1500,\n        \"MMIN\":768,\n        \"MMAX\":1000,\n        \"CACH\":0,\n        \"CHMIN\":0,\n        \"CHMAX\":0,\n        \"PRP\":12\n    },\n    {\n        \"VendorName\":\"ibm\",\n        \"ModelName\":\"8130-b\",\n        \"MYCT\":1500,\n        \"MMIN\":768,\n        \"MMAX\":2000,\n        \"CACH\":0,\n        \"CHMIN\":0,\n        \"CHMAX\":0,\n        \"PRP\":18\n    },\n    {\n        \"VendorName\":\"ibm\",\n        \"ModelName\":\"8140\",\n        \"MYCT\":800,\n        \"MMIN\":768,\n        \"MMAX\":2000,\n        \"CACH\":0,\n        \"CHMIN\":0,\n        \"CHMAX\":0,\n        \"PRP\":20\n    },\n    {\n        \"VendorName\":\"ipl\",\n        \"ModelName\":\"4436\",\n        \"MYCT\":50,\n        \"MMIN\":2000,\n        \"MMAX\":4000,\n        \"CACH\":0,\n        \"CHMIN\":3,\n        \"CHMAX\":6,\n        \"PRP\":27\n    },\n    {\n        \"VendorName\":\"ipl\",\n        \"ModelName\":\"4443\",\n        \"MYCT\":50,\n        \"MMIN\":2000,\n        \"MMAX\":8000,\n        \"CACH\":8,\n        \"CHMIN\":3,\n        \"CHMAX\":6,\n        \"PRP\":45\n    },\n    {\n        \"VendorName\":\"ipl\",\n        \"ModelName\":\"4445\",\n        \"MYCT\":50,\n        \"MMIN\":2000,\n        \"MMAX\":8000,\n        \"CACH\":8,\n        \"CHMIN\":1,\n        \"CHMAX\":6,\n        \"PRP\":56\n    },\n    {\n        \"VendorName\":\"ipl\",\n        \"ModelName\":\"4446\",\n        \"MYCT\":50,\n        \"MMIN\":2000,\n        \"MMAX\":16000,\n        \"CACH\":24,\n        \"CHMIN\":1,\n        \"CHMAX\":6,\n        \"PRP\":70\n    },\n    {\n        \"VendorName\":\"ipl\",\n        \"ModelName\":\"4460\",\n        \"MYCT\":50,\n        \"MMIN\":2000,\n        \"MMAX\":16000,\n        \"CACH\":24,\n        \"CHMIN\":1,\n        \"CHMAX\":6,\n        \"PRP\":80\n    },\n    {\n        \"VendorName\":\"ipl\",\n        \"ModelName\":\"4480\",\n        \"MYCT\":50,\n        \"MMIN\":8000,\n        \"MMAX\":16000,\n        \"CACH\":48,\n        \"CHMIN\":1,\n        \"CHMAX\":10,\n        \"PRP\":136\n    },\n    {\n        \"VendorName\":\"magnuson\",\n        \"ModelName\":\"m80\\/30\",\n        \"MYCT\":100,\n        \"MMIN\":1000,\n        \"MMAX\":8000,\n        \"CACH\":0,\n        \"CHMIN\":2,\n        \"CHMAX\":6,\n        \"PRP\":16\n    },\n    {\n        \"VendorName\":\"magnuson\",\n        \"ModelName\":\"m80\\/31\",\n        \"MYCT\":100,\n        \"MMIN\":1000,\n        \"MMAX\":8000,\n        \"CACH\":24,\n        \"CHMIN\":2,\n        \"CHMAX\":6,\n        \"PRP\":26\n    },\n    {\n        \"VendorName\":\"magnuson\",\n        \"ModelName\":\"m80\\/32\",\n        \"MYCT\":100,\n        \"MMIN\":1000,\n        \"MMAX\":8000,\n        \"CACH\":24,\n        \"CHMIN\":3,\n        \"CHMAX\":6,\n        \"PRP\":32\n    },\n    {\n        \"VendorName\":\"magnuson\",\n        \"ModelName\":\"m80\\/42\",\n        \"MYCT\":50,\n        \"MMIN\":2000,\n        \"MMAX\":16000,\n        \"CACH\":12,\n        \"CHMIN\":3,\n        \"CHMAX\":16,\n        \"PRP\":45\n    },\n    {\n        \"VendorName\":\"magnuson\",\n        \"ModelName\":\"m80\\/43\",\n        \"MYCT\":50,\n        \"MMIN\":2000,\n        \"MMAX\":16000,\n        \"CACH\":24,\n        \"CHMIN\":6,\n        \"CHMAX\":16,\n        \"PRP\":54\n    },\n    {\n        \"VendorName\":\"magnuson\",\n        \"ModelName\":\"m80\\/44\",\n        \"MYCT\":50,\n        \"MMIN\":2000,\n        \"MMAX\":16000,\n        \"CACH\":24,\n        \"CHMIN\":6,\n        \"CHMAX\":16,\n        \"PRP\":65\n    },\n    {\n        \"VendorName\":\"microdata\",\n        \"ModelName\":\"seq.ms\\/3200\",\n        \"MYCT\":150,\n        \"MMIN\":512,\n        \"MMAX\":4000,\n        \"CACH\":0,\n        \"CHMIN\":8,\n        \"CHMAX\":128,\n        \"PRP\":30\n    },\n    {\n        \"VendorName\":\"nas\",\n        \"ModelName\":\"as\\/3000\",\n        \"MYCT\":115,\n        \"MMIN\":2000,\n        \"MMAX\":8000,\n        \"CACH\":16,\n        \"CHMIN\":1,\n        \"CHMAX\":3,\n        \"PRP\":50\n    },\n    {\n        \"VendorName\":\"nas\",\n        \"ModelName\":\"as\\/3000-n\",\n        \"MYCT\":115,\n        \"MMIN\":2000,\n        \"MMAX\":4000,\n        \"CACH\":2,\n        \"CHMIN\":1,\n        \"CHMAX\":5,\n        \"PRP\":40\n    },\n    {\n        \"VendorName\":\"nas\",\n        \"ModelName\":\"as\\/5000\",\n        \"MYCT\":92,\n        \"MMIN\":2000,\n        \"MMAX\":8000,\n        \"CACH\":32,\n        \"CHMIN\":1,\n        \"CHMAX\":6,\n        \"PRP\":62\n    },\n    {\n        \"VendorName\":\"nas\",\n        \"ModelName\":\"as\\/5000-e\",\n        \"MYCT\":92,\n        \"MMIN\":2000,\n        \"MMAX\":8000,\n        \"CACH\":32,\n        \"CHMIN\":1,\n        \"CHMAX\":6,\n        \"PRP\":60\n    },\n    {\n        \"VendorName\":\"nas\",\n        \"ModelName\":\"as\\/5000-n\",\n        \"MYCT\":92,\n        \"MMIN\":2000,\n        \"MMAX\":8000,\n        \"CACH\":4,\n        \"CHMIN\":1,\n        \"CHMAX\":6,\n        \"PRP\":50\n    },\n    {\n        \"VendorName\":\"nas\",\n        \"ModelName\":\"as\\/6130\",\n        \"MYCT\":75,\n        \"MMIN\":4000,\n        \"MMAX\":16000,\n        \"CACH\":16,\n        \"CHMIN\":1,\n        \"CHMAX\":6,\n        \"PRP\":66\n    },\n    {\n        \"VendorName\":\"nas\",\n        \"ModelName\":\"as\\/6150\",\n        \"MYCT\":60,\n        \"MMIN\":4000,\n        \"MMAX\":16000,\n        \"CACH\":32,\n        \"CHMIN\":1,\n        \"CHMAX\":6,\n        \"PRP\":86\n    },\n    {\n        \"VendorName\":\"nas\",\n        \"ModelName\":\"as\\/6620\",\n        \"MYCT\":60,\n        \"MMIN\":2000,\n        \"MMAX\":16000,\n        \"CACH\":64,\n        \"CHMIN\":5,\n        \"CHMAX\":8,\n        \"PRP\":74\n    },\n    {\n        \"VendorName\":\"nas\",\n        \"ModelName\":\"as\\/6630\",\n        \"MYCT\":60,\n        \"MMIN\":4000,\n        \"MMAX\":16000,\n        \"CACH\":64,\n        \"CHMIN\":5,\n        \"CHMAX\":8,\n        \"PRP\":93\n    },\n    {\n        \"VendorName\":\"nas\",\n        \"ModelName\":\"as\\/6650\",\n        \"MYCT\":50,\n        \"MMIN\":4000,\n        \"MMAX\":16000,\n        \"CACH\":64,\n        \"CHMIN\":5,\n        \"CHMAX\":10,\n        \"PRP\":111\n    },\n    {\n        \"VendorName\":\"nas\",\n        \"ModelName\":\"as\\/7000\",\n        \"MYCT\":72,\n        \"MMIN\":4000,\n        \"MMAX\":16000,\n        \"CACH\":64,\n        \"CHMIN\":8,\n        \"CHMAX\":16,\n        \"PRP\":143\n    },\n    {\n        \"VendorName\":\"nas\",\n        \"ModelName\":\"as\\/7000-n\",\n        \"MYCT\":72,\n        \"MMIN\":2000,\n        \"MMAX\":8000,\n        \"CACH\":16,\n        \"CHMIN\":6,\n        \"CHMAX\":8,\n        \"PRP\":105\n    },\n    {\n        \"VendorName\":\"nas\",\n        \"ModelName\":\"as\\/8040\",\n        \"MYCT\":40,\n        \"MMIN\":8000,\n        \"MMAX\":16000,\n        \"CACH\":32,\n        \"CHMIN\":8,\n        \"CHMAX\":16,\n        \"PRP\":214\n    },\n    {\n        \"VendorName\":\"nas\",\n        \"ModelName\":\"as\\/8050\",\n        \"MYCT\":40,\n        \"MMIN\":8000,\n        \"MMAX\":32000,\n        \"CACH\":64,\n        \"CHMIN\":8,\n        \"CHMAX\":24,\n        \"PRP\":277\n    },\n    {\n        \"VendorName\":\"nas\",\n        \"ModelName\":\"as\\/8060\",\n        \"MYCT\":35,\n        \"MMIN\":8000,\n        \"MMAX\":32000,\n        \"CACH\":64,\n        \"CHMIN\":8,\n        \"CHMAX\":24,\n        \"PRP\":370\n    },\n    {\n        \"VendorName\":\"nas\",\n        \"ModelName\":\"as\\/9000-dpc\",\n        \"MYCT\":38,\n        \"MMIN\":16000,\n        \"MMAX\":32000,\n        \"CACH\":128,\n        \"CHMIN\":16,\n        \"CHMAX\":32,\n        \"PRP\":510\n    },\n    {\n        \"VendorName\":\"nas\",\n        \"ModelName\":\"as\\/9000-n\",\n        \"MYCT\":48,\n        \"MMIN\":4000,\n        \"MMAX\":24000,\n        \"CACH\":32,\n        \"CHMIN\":8,\n        \"CHMAX\":24,\n        \"PRP\":214\n    },\n    {\n        \"VendorName\":\"nas\",\n        \"ModelName\":\"as\\/9040\",\n        \"MYCT\":38,\n        \"MMIN\":8000,\n        \"MMAX\":32000,\n        \"CACH\":64,\n        \"CHMIN\":8,\n        \"CHMAX\":24,\n        \"PRP\":326\n    },\n    {\n        \"VendorName\":\"nas\",\n        \"ModelName\":\"as\\/9060\",\n        \"MYCT\":30,\n        \"MMIN\":16000,\n        \"MMAX\":32000,\n        \"CACH\":256,\n        \"CHMIN\":16,\n        \"CHMAX\":24,\n        \"PRP\":510\n    },\n    {\n        \"VendorName\":\"ncr\",\n        \"ModelName\":\"v8535:ii\",\n        \"MYCT\":112,\n        \"MMIN\":1000,\n        \"MMAX\":1000,\n        \"CACH\":0,\n        \"CHMIN\":1,\n        \"CHMAX\":4,\n        \"PRP\":8\n    },\n    {\n        \"VendorName\":\"ncr\",\n        \"ModelName\":\"v8545:ii\",\n        \"MYCT\":84,\n        \"MMIN\":1000,\n        \"MMAX\":2000,\n        \"CACH\":0,\n        \"CHMIN\":1,\n        \"CHMAX\":6,\n        \"PRP\":12\n    },\n    {\n        \"VendorName\":\"ncr\",\n        \"ModelName\":\"v8555:ii\",\n        \"MYCT\":56,\n        \"MMIN\":1000,\n        \"MMAX\":4000,\n        \"CACH\":0,\n        \"CHMIN\":1,\n        \"CHMAX\":6,\n        \"PRP\":17\n    },\n    {\n        \"VendorName\":\"ncr\",\n        \"ModelName\":\"v8565:ii\",\n        \"MYCT\":56,\n        \"MMIN\":2000,\n        \"MMAX\":6000,\n        \"CACH\":0,\n        \"CHMIN\":1,\n        \"CHMAX\":8,\n        \"PRP\":21\n    },\n    {\n        \"VendorName\":\"ncr\",\n        \"ModelName\":\"v8565:ii-e\",\n        \"MYCT\":56,\n        \"MMIN\":2000,\n        \"MMAX\":8000,\n        \"CACH\":0,\n        \"CHMIN\":1,\n        \"CHMAX\":8,\n        \"PRP\":24\n    },\n    {\n        \"VendorName\":\"ncr\",\n        \"ModelName\":\"v8575:ii\",\n        \"MYCT\":56,\n        \"MMIN\":4000,\n        \"MMAX\":8000,\n        \"CACH\":0,\n        \"CHMIN\":1,\n        \"CHMAX\":8,\n        \"PRP\":34\n    },\n    {\n        \"VendorName\":\"ncr\",\n        \"ModelName\":\"v8585:ii\",\n        \"MYCT\":56,\n        \"MMIN\":4000,\n        \"MMAX\":12000,\n        \"CACH\":0,\n        \"CHMIN\":1,\n        \"CHMAX\":8,\n        \"PRP\":42\n    },\n    {\n        \"VendorName\":\"ncr\",\n        \"ModelName\":\"v8595:ii\",\n        \"MYCT\":56,\n        \"MMIN\":4000,\n        \"MMAX\":16000,\n        \"CACH\":0,\n        \"CHMIN\":1,\n        \"CHMAX\":8,\n        \"PRP\":46\n    },\n    {\n        \"VendorName\":\"ncr\",\n        \"ModelName\":\"v8635\",\n        \"MYCT\":38,\n        \"MMIN\":4000,\n        \"MMAX\":8000,\n        \"CACH\":32,\n        \"CHMIN\":16,\n        \"CHMAX\":32,\n        \"PRP\":51\n    },\n    {\n        \"VendorName\":\"ncr\",\n        \"ModelName\":\"v8650\",\n        \"MYCT\":38,\n        \"MMIN\":4000,\n        \"MMAX\":8000,\n        \"CACH\":32,\n        \"CHMIN\":16,\n        \"CHMAX\":32,\n        \"PRP\":116\n    },\n    {\n        \"VendorName\":\"ncr\",\n        \"ModelName\":\"v8655\",\n        \"MYCT\":38,\n        \"MMIN\":8000,\n        \"MMAX\":16000,\n        \"CACH\":64,\n        \"CHMIN\":4,\n        \"CHMAX\":8,\n        \"PRP\":100\n    },\n    {\n        \"VendorName\":\"ncr\",\n        \"ModelName\":\"v8665\",\n        \"MYCT\":38,\n        \"MMIN\":8000,\n        \"MMAX\":24000,\n        \"CACH\":160,\n        \"CHMIN\":4,\n        \"CHMAX\":8,\n        \"PRP\":140\n    },\n    {\n        \"VendorName\":\"ncr\",\n        \"ModelName\":\"v8670\",\n        \"MYCT\":38,\n        \"MMIN\":4000,\n        \"MMAX\":16000,\n        \"CACH\":128,\n        \"CHMIN\":16,\n        \"CHMAX\":32,\n        \"PRP\":212\n    },\n    {\n        \"VendorName\":\"nixdorf\",\n        \"ModelName\":\"8890\\/30\",\n        \"MYCT\":200,\n        \"MMIN\":1000,\n        \"MMAX\":2000,\n        \"CACH\":0,\n        \"CHMIN\":1,\n        \"CHMAX\":2,\n        \"PRP\":25\n    },\n    {\n        \"VendorName\":\"nixdorf\",\n        \"ModelName\":\"8890\\/50\",\n        \"MYCT\":200,\n        \"MMIN\":1000,\n        \"MMAX\":4000,\n        \"CACH\":0,\n        \"CHMIN\":1,\n        \"CHMAX\":4,\n        \"PRP\":30\n    },\n    {\n        \"VendorName\":\"nixdorf\",\n        \"ModelName\":\"8890\\/70\",\n        \"MYCT\":200,\n        \"MMIN\":2000,\n        \"MMAX\":8000,\n        \"CACH\":64,\n        \"CHMIN\":1,\n        \"CHMAX\":5,\n        \"PRP\":41\n    },\n    {\n        \"VendorName\":\"perkin-elmer\",\n        \"ModelName\":\"3205\",\n        \"MYCT\":250,\n        \"MMIN\":512,\n        \"MMAX\":4000,\n        \"CACH\":0,\n        \"CHMIN\":1,\n        \"CHMAX\":7,\n        \"PRP\":25\n    },\n    {\n        \"VendorName\":\"perkin-elmer\",\n        \"ModelName\":\"3210\",\n        \"MYCT\":250,\n        \"MMIN\":512,\n        \"MMAX\":4000,\n        \"CACH\":0,\n        \"CHMIN\":4,\n        \"CHMAX\":7,\n        \"PRP\":50\n    },\n    {\n        \"VendorName\":\"perkin-elmer\",\n        \"ModelName\":\"3230\",\n        \"MYCT\":250,\n        \"MMIN\":1000,\n        \"MMAX\":16000,\n        \"CACH\":1,\n        \"CHMIN\":1,\n        \"CHMAX\":8,\n        \"PRP\":50\n    },\n    {\n        \"VendorName\":\"prime\",\n        \"ModelName\":\"50-2250\",\n        \"MYCT\":160,\n        \"MMIN\":512,\n        \"MMAX\":4000,\n        \"CACH\":2,\n        \"CHMIN\":1,\n        \"CHMAX\":5,\n        \"PRP\":30\n    },\n    {\n        \"VendorName\":\"prime\",\n        \"ModelName\":\"50-250-ii\",\n        \"MYCT\":160,\n        \"MMIN\":512,\n        \"MMAX\":2000,\n        \"CACH\":2,\n        \"CHMIN\":3,\n        \"CHMAX\":8,\n        \"PRP\":32\n    },\n    {\n        \"VendorName\":\"prime\",\n        \"ModelName\":\"50-550-ii\",\n        \"MYCT\":160,\n        \"MMIN\":1000,\n        \"MMAX\":4000,\n        \"CACH\":8,\n        \"CHMIN\":1,\n        \"CHMAX\":14,\n        \"PRP\":38\n    },\n    {\n        \"VendorName\":\"prime\",\n        \"ModelName\":\"50-750-ii\",\n        \"MYCT\":160,\n        \"MMIN\":1000,\n        \"MMAX\":8000,\n        \"CACH\":16,\n        \"CHMIN\":1,\n        \"CHMAX\":14,\n        \"PRP\":60\n    },\n    {\n        \"VendorName\":\"prime\",\n        \"ModelName\":\"50-850-ii\",\n        \"MYCT\":160,\n        \"MMIN\":2000,\n        \"MMAX\":8000,\n        \"CACH\":32,\n        \"CHMIN\":1,\n        \"CHMAX\":13,\n        \"PRP\":109\n    },\n    {\n        \"VendorName\":\"siemens\",\n        \"ModelName\":\"7.521\",\n        \"MYCT\":240,\n        \"MMIN\":512,\n        \"MMAX\":1000,\n        \"CACH\":8,\n        \"CHMIN\":1,\n        \"CHMAX\":3,\n        \"PRP\":6\n    },\n    {\n        \"VendorName\":\"siemens\",\n        \"ModelName\":\"7.531\",\n        \"MYCT\":240,\n        \"MMIN\":512,\n        \"MMAX\":2000,\n        \"CACH\":8,\n        \"CHMIN\":1,\n        \"CHMAX\":5,\n        \"PRP\":11\n    },\n    {\n        \"VendorName\":\"siemens\",\n        \"ModelName\":\"7.536\",\n        \"MYCT\":105,\n        \"MMIN\":2000,\n        \"MMAX\":4000,\n        \"CACH\":8,\n        \"CHMIN\":3,\n        \"CHMAX\":8,\n        \"PRP\":22\n    },\n    {\n        \"VendorName\":\"siemens\",\n        \"ModelName\":\"7.541\",\n        \"MYCT\":105,\n        \"MMIN\":2000,\n        \"MMAX\":6000,\n        \"CACH\":16,\n        \"CHMIN\":6,\n        \"CHMAX\":16,\n        \"PRP\":33\n    },\n    {\n        \"VendorName\":\"siemens\",\n        \"ModelName\":\"7.551\",\n        \"MYCT\":105,\n        \"MMIN\":2000,\n        \"MMAX\":8000,\n        \"CACH\":16,\n        \"CHMIN\":4,\n        \"CHMAX\":14,\n        \"PRP\":58\n    },\n    {\n        \"VendorName\":\"siemens\",\n        \"ModelName\":\"7.561\",\n        \"MYCT\":52,\n        \"MMIN\":4000,\n        \"MMAX\":16000,\n        \"CACH\":32,\n        \"CHMIN\":4,\n        \"CHMAX\":12,\n        \"PRP\":130\n    },\n    {\n        \"VendorName\":\"siemens\",\n        \"ModelName\":\"7.865-2\",\n        \"MYCT\":70,\n        \"MMIN\":4000,\n        \"MMAX\":12000,\n        \"CACH\":8,\n        \"CHMIN\":6,\n        \"CHMAX\":8,\n        \"PRP\":75\n    },\n    {\n        \"VendorName\":\"siemens\",\n        \"ModelName\":\"7.870-2\",\n        \"MYCT\":59,\n        \"MMIN\":4000,\n        \"MMAX\":12000,\n        \"CACH\":32,\n        \"CHMIN\":6,\n        \"CHMAX\":12,\n        \"PRP\":113\n    }\n]}}\n"
        }
      ],
      "execution_count": 28,
      "metadata": {}
    },
    {
      "cell_type": "code",
      "source": [
        "# wait and delete endpoint\n",
        "import time\n",
        "\n",
        "time.sleep(60)"
      ],
      "outputs": [],
      "execution_count": 25,
      "metadata": {}
    },
    {
      "cell_type": "markdown",
      "source": [
        "### Get endpoint details"
      ],
      "metadata": {}
    },
    {
      "cell_type": "code",
      "source": [
        "# Get the details for online endpoint\n",
        "endpoint = ml_client.online_endpoints.get(name=online_endpoint_name)\n",
        "\n",
        "# existing traffic details\n",
        "print(endpoint.traffic)\n",
        "\n",
        "# Get the scoring URI\n",
        "print(endpoint.scoring_uri)"
      ],
      "outputs": [
        {
          "output_type": "stream",
          "name": "stdout",
          "text": "{'hardware-performance-deploy': 100}\nhttps://regression-02090312349920.eastus.inference.ml.azure.com/score\n"
        }
      ],
      "execution_count": 26,
      "metadata": {}
    },
    {
      "cell_type": "markdown",
      "source": [
        "### Delete the deployment and endpoint"
      ],
      "metadata": {}
    },
    {
      "cell_type": "code",
      "source": [
        "ml_client.online_endpoints.begin_delete(name=online_endpoint_name)"
      ],
      "outputs": [],
      "execution_count": null,
      "metadata": {}
    },
    {
      "cell_type": "markdown",
      "source": [
        "# Next Step: Load the best model and try predictions\n",
        "\n",
        "Loading the models locally assume that you are running the notebook in an environment compatible with the model. The list of dependencies that is expected by the model is specified in the MLFlow model produced by AutoML (in the 'conda.yaml' file within the mlflow-model folder).\n",
        "\n",
        "Since the AutoML model was trained remotelly in a different environment with different dependencies to your current local conda environment where you are running this notebook, if you want to load the model you have several options:\n",
        "\n",
        "1. A recommended way to locally load the model in memory and try predictions is to create a new/clean conda environment with the dependencies specified in the conda.yml file within the MLFlow model's folder, then use MLFlow to load the model and call .predict() as explained in the notebook **mlflow-model-local-inference-test.ipynb** in this same folder.\n",
        "\n",
        "2. You can install all the packages/dependencies specified in conda.yml into your current conda environment you used for using Azure ML SDK and AutoML. MLflow SDK also have a method to install the dependencies in the current environment. However, this option could have risks of package version conflicts depending on what's installed in your current environment.\n",
        "\n",
        "3. You can also use: mlflow models serve -m 'xxxxxxx'"
      ],
      "metadata": {}
    },
    {
      "cell_type": "markdown",
      "source": [
        "# Next Steps\n",
        "You can see further examples of other AutoML tasks such as Image-Classification, Image-Object-Detection, NLP-Text-Classification, Time-Series-Forcasting, etc."
      ],
      "metadata": {}
    },
    {
      "cell_type": "markdown",
      "source": [],
      "metadata": {}
    }
  ],
  "metadata": {
    "kernel_info": {
      "name": "python310-sdkv2"
    },
    "kernelspec": {
      "display_name": "Python 3.10 - SDK V2",
      "language": "python",
      "name": "python310-sdkv2"
    },
    "language_info": {
      "name": "python",
      "version": "3.10.4",
      "mimetype": "text/x-python",
      "codemirror_mode": {
        "name": "ipython",
        "version": 3
      },
      "pygments_lexer": "ipython3",
      "nbconvert_exporter": "python",
      "file_extension": ".py"
    },
    "microsoft": {
      "host": {
        "AzureML": {
          "notebookHasBeenCompleted": true
        }
      }
    },
    "nteract": {
      "version": "nteract-front-end@1.0.0"
    }
  },
  "nbformat": 4,
  "nbformat_minor": 4
}